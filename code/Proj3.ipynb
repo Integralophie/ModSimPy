{
 "cells": [
  {
   "cell_type": "markdown",
   "metadata": {},
   "source": [
    "# Project 3: Second-Order Systems"
   ]
  },
  {
   "cell_type": "markdown",
   "metadata": {},
   "source": [
    "Sophie Wu and Becca Suchower"
   ]
  },
  {
   "cell_type": "markdown",
   "metadata": {},
   "source": [
    "## Question: When a frog jumps off of a lilypad at a certain height, what is the minimum surface area of the lilypad so it does not submerge?"
   ]
  },
  {
   "cell_type": "markdown",
   "metadata": {},
   "source": [
    "<img src=\"diagrams/force_graph.png\" width=300 height=300> \n",
    "      \n",
    "<img src=\"diagrams/force_graph_spline.png\" width=300 height=300>"
   ]
  },
  {
   "cell_type": "markdown",
   "metadata": {},
   "source": [
    "Source: https://pdfs.semanticscholar.org/3c26/3adf9dec3a122deb6d43492ba7b09cc5ac7e.pdf "
   ]
  },
  {
   "cell_type": "markdown",
   "metadata": {},
   "source": [
    "When researching frog jump studies, we found the above graph that shows force vs time for three different massed frogs.  In our model, we assumed the frog was point mass of 12.8 grams, as shown in the middle line of the above graph.  We also used the value of time associated with that frog, 80 ms, for the time that the frog is in contact with the lilypad.  Finally, we assumed the lilypad was 1 cm tall above surface of water, and force was applied constantly to the lilypad."
   ]
  },
  {
   "cell_type": "markdown",
   "metadata": {},
   "source": [
    "## Model"
   ]
  },
  {
   "cell_type": "code",
   "execution_count": 27,
   "metadata": {},
   "outputs": [],
   "source": [
    "# Configure Jupyter so figures appear in the notebook\n",
    "%matplotlib inline\n",
    "\n",
    "# Configure Jupyter to display the assigned value after an assignment\n",
    "%config InteractiveShell.ast_node_interactivity='last_expr_or_assign'\n",
    "\n",
    "# import functions from the modsim.py module\n",
    "from modsim import *\n",
    "import scipy \n",
    "from numpy import sqrt, sin, cos, pi\n",
    "import matplotlib.pyplot as plt\n",
    "import numpy as np"
   ]
  },
  {
   "cell_type": "code",
   "execution_count": 28,
   "metadata": {},
   "outputs": [
    {
     "data": {
      "text/html": [
       "degree"
      ],
      "text/latex": [
       "$degree$"
      ],
      "text/plain": [
       "<Unit('degree')>"
      ]
     },
     "execution_count": 28,
     "metadata": {},
     "output_type": "execute_result"
    }
   ],
   "source": [
    "# import units needed in the model\n",
    "s = UNITS.second\n",
    "N = UNITS.newton\n",
    "kg = UNITS.kilogram\n",
    "m = UNITS.meter\n",
    "degree = UNITS.degree"
   ]
  },
  {
   "cell_type": "code",
   "execution_count": 33,
   "metadata": {},
   "outputs": [
    {
     "data": {
      "text/html": [
       "<div>\n",
       "<style scoped>\n",
       "    .dataframe tbody tr th:only-of-type {\n",
       "        vertical-align: middle;\n",
       "    }\n",
       "\n",
       "    .dataframe tbody tr th {\n",
       "        vertical-align: top;\n",
       "    }\n",
       "\n",
       "    .dataframe thead th {\n",
       "        text-align: right;\n",
       "    }\n",
       "</style>\n",
       "<table border=\"1\" class=\"dataframe\">\n",
       "  <thead>\n",
       "    <tr style=\"text-align: right;\">\n",
       "      <th></th>\n",
       "      <th>values</th>\n",
       "    </tr>\n",
       "  </thead>\n",
       "  <tbody>\n",
       "    <tr>\n",
       "      <th>g_a</th>\n",
       "      <td>-9.8 meter / second ** 2</td>\n",
       "    </tr>\n",
       "    <tr>\n",
       "      <th>height</th>\n",
       "      <td>1 meter</td>\n",
       "    </tr>\n",
       "    <tr>\n",
       "      <th>y_init</th>\n",
       "      <td>0.01 meter</td>\n",
       "    </tr>\n",
       "    <tr>\n",
       "      <th>m_frog</th>\n",
       "      <td>0.0128 kilogram</td>\n",
       "    </tr>\n",
       "    <tr>\n",
       "      <th>r_lilypad</th>\n",
       "      <td>0.1 meter</td>\n",
       "    </tr>\n",
       "    <tr>\n",
       "      <th>ρ</th>\n",
       "      <td>997.0 kilogram / meter ** 3</td>\n",
       "    </tr>\n",
       "    <tr>\n",
       "      <th>t_0</th>\n",
       "      <td>0 second</td>\n",
       "    </tr>\n",
       "    <tr>\n",
       "      <th>t_end</th>\n",
       "      <td>30 second</td>\n",
       "    </tr>\n",
       "    <tr>\n",
       "      <th>t_mid</th>\n",
       "      <td>0.08 second</td>\n",
       "    </tr>\n",
       "    <tr>\n",
       "      <th>force</th>\n",
       "      <td>1 newton</td>\n",
       "    </tr>\n",
       "    <tr>\n",
       "      <th>leg_length</th>\n",
       "      <td>0.1 meter</td>\n",
       "    </tr>\n",
       "  </tbody>\n",
       "</table>\n",
       "</div>"
      ],
      "text/plain": [
       "g_a              -9.8 meter / second ** 2\n",
       "height                            1 meter\n",
       "y_init                         0.01 meter\n",
       "m_frog                    0.0128 kilogram\n",
       "r_lilypad                       0.1 meter\n",
       "ρ             997.0 kilogram / meter ** 3\n",
       "t_0                              0 second\n",
       "t_end                           30 second\n",
       "t_mid                         0.08 second\n",
       "force                            1 newton\n",
       "leg_length                      0.1 meter\n",
       "dtype: object"
      ]
     },
     "execution_count": 33,
     "metadata": {},
     "output_type": "execute_result"
    }
   ],
   "source": [
    "params = Params( \n",
    "                g_a = - 9.8 * m / s **2,    # gravitational acceleration\n",
    "                height = 1 * m,            # height of the frog jump\n",
    "                y_init = 0.01 * m,            # initial position, the height of the lilypad\n",
    "                m_frog = 0.0128 * kg,        # mass of the frog, from the paper\n",
    "                r_lilypad = 0.1 * m,      # radius of lilypad\n",
    "                ρ = 997 * kg / m**3,      # density of water \n",
    "                t_0 = 0 * s,              # t at 0s\n",
    "                t_end = 30 * s,       \n",
    "                t_mid = 0.08 * s, #the short time the frog applies force to the lilypad\n",
    "                force = 1 * N,\n",
    "                leg_length = 0.1 * m  #length of frog legs\n",
    "                )"
   ]
  },
  {
   "cell_type": "markdown",
   "metadata": {},
   "source": [
    "Calculating the volume of the lilypad/displaced water below and returning it to the system, calculating height and velocity at t_mid"
   ]
  },
  {
   "cell_type": "code",
   "execution_count": 34,
   "metadata": {},
   "outputs": [],
   "source": [
    "def make_system(params):\n",
    "    \n",
    "    unpack(params)\n",
    "    t_mid = ((2*leg_length)/(g_a + (force/m_frog)))**0.5\n",
    "    # height and velocity at t_mid\n",
    "    y_pos = y_init + (1/2)*(g_a + force/m_frog)*(t_mid**2)\n",
    "    v_pos =(g_a + force/m_frog)*(t_mid)\n",
    "    \n",
    "    \n",
    "    area = np.pi * (r_lilypad)**2\n",
    "    volume = area * 5e-3 * m               # volume of lilypad / displaced water\n",
    "    \n",
    "    init = State(y=y_pos, v=v_pos)\n",
    "    \n",
    "    #for debugging purposes\n",
    "\n",
    "    print(y_pos)\n",
    "    print(v_pos)\n",
    "    \n",
    "    return System(params, volume = volume, init = init, y_pos = y_pos, v_pos = v_pos)"
   ]
  },
  {
   "cell_type": "code",
   "execution_count": 35,
   "metadata": {},
   "outputs": [
    {
     "name": "stdout",
     "output_type": "stream",
     "text": [
      "0.11000000000000001 meter\n",
      "3.696620077854905 meter / second\n"
     ]
    },
    {
     "data": {
      "text/html": [
       "<div>\n",
       "<style scoped>\n",
       "    .dataframe tbody tr th:only-of-type {\n",
       "        vertical-align: middle;\n",
       "    }\n",
       "\n",
       "    .dataframe tbody tr th {\n",
       "        vertical-align: top;\n",
       "    }\n",
       "\n",
       "    .dataframe thead th {\n",
       "        text-align: right;\n",
       "    }\n",
       "</style>\n",
       "<table border=\"1\" class=\"dataframe\">\n",
       "  <thead>\n",
       "    <tr style=\"text-align: right;\">\n",
       "      <th></th>\n",
       "      <th>values</th>\n",
       "    </tr>\n",
       "  </thead>\n",
       "  <tbody>\n",
       "    <tr>\n",
       "      <th>g_a</th>\n",
       "      <td>-9.8 meter / second ** 2</td>\n",
       "    </tr>\n",
       "    <tr>\n",
       "      <th>height</th>\n",
       "      <td>1 meter</td>\n",
       "    </tr>\n",
       "    <tr>\n",
       "      <th>y_init</th>\n",
       "      <td>0.01 meter</td>\n",
       "    </tr>\n",
       "    <tr>\n",
       "      <th>m_frog</th>\n",
       "      <td>0.0128 kilogram</td>\n",
       "    </tr>\n",
       "    <tr>\n",
       "      <th>r_lilypad</th>\n",
       "      <td>0.1 meter</td>\n",
       "    </tr>\n",
       "    <tr>\n",
       "      <th>ρ</th>\n",
       "      <td>997.0 kilogram / meter ** 3</td>\n",
       "    </tr>\n",
       "    <tr>\n",
       "      <th>t_0</th>\n",
       "      <td>0 second</td>\n",
       "    </tr>\n",
       "    <tr>\n",
       "      <th>t_end</th>\n",
       "      <td>30 second</td>\n",
       "    </tr>\n",
       "    <tr>\n",
       "      <th>t_mid</th>\n",
       "      <td>0.08 second</td>\n",
       "    </tr>\n",
       "    <tr>\n",
       "      <th>force</th>\n",
       "      <td>1 newton</td>\n",
       "    </tr>\n",
       "    <tr>\n",
       "      <th>leg_length</th>\n",
       "      <td>0.1 meter</td>\n",
       "    </tr>\n",
       "    <tr>\n",
       "      <th>volume</th>\n",
       "      <td>0.00015707963267948968 meter ** 3</td>\n",
       "    </tr>\n",
       "    <tr>\n",
       "      <th>init</th>\n",
       "      <td>y           0.11000000000000001 meter\n",
       "v    3.6...</td>\n",
       "    </tr>\n",
       "    <tr>\n",
       "      <th>y_pos</th>\n",
       "      <td>0.11000000000000001 meter</td>\n",
       "    </tr>\n",
       "    <tr>\n",
       "      <th>v_pos</th>\n",
       "      <td>3.696620077854905 meter / second</td>\n",
       "    </tr>\n",
       "  </tbody>\n",
       "</table>\n",
       "</div>"
      ],
      "text/plain": [
       "g_a                                    -9.8 meter / second ** 2\n",
       "height                                                  1 meter\n",
       "y_init                                               0.01 meter\n",
       "m_frog                                          0.0128 kilogram\n",
       "r_lilypad                                             0.1 meter\n",
       "ρ                                   997.0 kilogram / meter ** 3\n",
       "t_0                                                    0 second\n",
       "t_end                                                 30 second\n",
       "t_mid                                               0.08 second\n",
       "force                                                  1 newton\n",
       "leg_length                                            0.1 meter\n",
       "volume                        0.00015707963267948968 meter ** 3\n",
       "init          y           0.11000000000000001 meter\n",
       "v    3.6...\n",
       "y_pos                                 0.11000000000000001 meter\n",
       "v_pos                          3.696620077854905 meter / second\n",
       "dtype: object"
      ]
     },
     "execution_count": 35,
     "metadata": {},
     "output_type": "execute_result"
    }
   ],
   "source": [
    "system = make_system(params)\n"
   ]
  },
  {
   "cell_type": "code",
   "execution_count": 36,
   "metadata": {},
   "outputs": [],
   "source": [
    "def slope_func(state, t, system):\n",
    "\n",
    "    y, v = state\n",
    "    unpack(system)\n",
    "    \n",
    "    dydt = v                              #velocity at certain point\n",
    "    dvdt = g_a                            #acceleration due to gravity \n",
    "    \n",
    "    return dydt, dvdt"
   ]
  },
  {
   "cell_type": "code",
   "execution_count": 37,
   "metadata": {},
   "outputs": [
    {
     "data": {
      "text/plain": [
       "(<Quantity(3.696620077854905, 'meter / second')>,\n",
       " <Quantity(-9.8, 'meter / second ** 2')>)"
      ]
     },
     "execution_count": 37,
     "metadata": {},
     "output_type": "execute_result"
    }
   ],
   "source": [
    "slope_func(system.init, 0, system)"
   ]
  },
  {
   "cell_type": "code",
   "execution_count": 38,
   "metadata": {},
   "outputs": [],
   "source": [
    "def event_func(state, t, system):\n",
    "    y, v = state\n",
    "    return y"
   ]
  },
  {
   "cell_type": "code",
   "execution_count": 39,
   "metadata": {},
   "outputs": [
    {
     "data": {
      "text/html": [
       "<div>\n",
       "<style scoped>\n",
       "    .dataframe tbody tr th:only-of-type {\n",
       "        vertical-align: middle;\n",
       "    }\n",
       "\n",
       "    .dataframe tbody tr th {\n",
       "        vertical-align: top;\n",
       "    }\n",
       "\n",
       "    .dataframe thead th {\n",
       "        text-align: right;\n",
       "    }\n",
       "</style>\n",
       "<table border=\"1\" class=\"dataframe\">\n",
       "  <thead>\n",
       "    <tr style=\"text-align: right;\">\n",
       "      <th></th>\n",
       "      <th>y</th>\n",
       "      <th>v</th>\n",
       "    </tr>\n",
       "  </thead>\n",
       "  <tbody>\n",
       "    <tr>\n",
       "      <th>0.000000</th>\n",
       "      <td>1.100000e-01</td>\n",
       "      <td>3.696620</td>\n",
       "    </tr>\n",
       "    <tr>\n",
       "      <th>0.042135</th>\n",
       "      <td>2.570590e-01</td>\n",
       "      <td>3.283694</td>\n",
       "    </tr>\n",
       "    <tr>\n",
       "      <th>0.142135</th>\n",
       "      <td>5.364284e-01</td>\n",
       "      <td>2.303694</td>\n",
       "    </tr>\n",
       "    <tr>\n",
       "      <th>0.242135</th>\n",
       "      <td>7.177977e-01</td>\n",
       "      <td>1.323694</td>\n",
       "    </tr>\n",
       "    <tr>\n",
       "      <th>0.342135</th>\n",
       "      <td>8.011671e-01</td>\n",
       "      <td>0.343694</td>\n",
       "    </tr>\n",
       "    <tr>\n",
       "      <th>0.442135</th>\n",
       "      <td>7.865364e-01</td>\n",
       "      <td>-0.636306</td>\n",
       "    </tr>\n",
       "    <tr>\n",
       "      <th>0.542135</th>\n",
       "      <td>6.739058e-01</td>\n",
       "      <td>-1.616306</td>\n",
       "    </tr>\n",
       "    <tr>\n",
       "      <th>0.642135</th>\n",
       "      <td>4.632752e-01</td>\n",
       "      <td>-2.596306</td>\n",
       "    </tr>\n",
       "    <tr>\n",
       "      <th>0.742135</th>\n",
       "      <td>1.546445e-01</td>\n",
       "      <td>-3.576306</td>\n",
       "    </tr>\n",
       "    <tr>\n",
       "      <th>0.783080</th>\n",
       "      <td>5.551115e-17</td>\n",
       "      <td>-3.977562</td>\n",
       "    </tr>\n",
       "  </tbody>\n",
       "</table>\n",
       "</div>"
      ],
      "text/plain": [
       "                     y         v\n",
       "0.000000  1.100000e-01  3.696620\n",
       "0.042135  2.570590e-01  3.283694\n",
       "0.142135  5.364284e-01  2.303694\n",
       "0.242135  7.177977e-01  1.323694\n",
       "0.342135  8.011671e-01  0.343694\n",
       "0.442135  7.865364e-01 -0.636306\n",
       "0.542135  6.739058e-01 -1.616306\n",
       "0.642135  4.632752e-01 -2.596306\n",
       "0.742135  1.546445e-01 -3.576306\n",
       "0.783080  5.551115e-17 -3.977562"
      ]
     },
     "execution_count": 39,
     "metadata": {},
     "output_type": "execute_result"
    }
   ],
   "source": [
    "results, details = run_ode_solver(system, slope_func, events=event_func, max_step=0.1*s)\n",
    "details.message\n",
    "results"
   ]
  },
  {
   "cell_type": "code",
   "execution_count": 40,
   "metadata": {},
   "outputs": [
    {
     "name": "stdout",
     "output_type": "stream",
     "text": [
      "1 newton 0.8011670778213886\n"
     ]
    },
    {
     "data": {
      "image/png": "[encoded data removed]",
      "text/plain": [
       "<Figure size 432x288 with 1 Axes>"
      ]
     },
     "metadata": {},
     "output_type": "display_data"
    }
   ],
   "source": [
    "def plot_position(results):\n",
    "    plot(results.y)\n",
    "    decorate(xlabel='Time (s)',\n",
    "             ylabel='Position (m)')\n",
    "    \n",
    "plot_position(results)\n",
    "\n",
    "max_height = results.y.max()\n",
    "\n",
    "print(force, max_height)"
   ]
  },
  {
   "cell_type": "code",
   "execution_count": 41,
   "metadata": {},
   "outputs": [],
   "source": [
    "def sweep_force(force_array, params):\n",
    "    sweep = SweepSeries()\n",
    "    \n",
    "    for force in force_array:\n",
    "        \n",
    "        system = make_system(Params(params, y_pos = y_pos, v_pos = v_pos, force = force))\n",
    "        \n",
    "        results, details = run_ode_solver(system, slope_func, \n",
    "                                          events=event_func,\n",
    "                                          max_step=0.1*s)\n",
    "        max_height = results.y.max()\n",
    "        sweep[force.magnitude] = max_height\n",
    "        \n",
    "    return sweep\n"
   ]
  },
  {
   "cell_type": "code",
   "execution_count": 42,
   "metadata": {},
   "outputs": [
    {
     "name": "stderr",
     "output_type": "stream",
     "text": [
      "C:\\Miniconda3\\lib\\site-packages\\pint\\quantity.py:855: RuntimeWarning: invalid value encountered in double_scalars\n",
      "  magnitude = new_self._magnitude ** _to_magnitude(other, self.force_ndarray)\n",
      "C:\\Miniconda3\\lib\\site-packages\\scipy\\integrate\\_ivp\\rk.py:140: RuntimeWarning: invalid value encountered in maximum\n",
      "  scale = atol + np.maximum(np.abs(y), np.abs(y_new)) * rtol\n"
     ]
    },
    {
     "name": "stdout",
     "output_type": "stream",
     "text": [
      "nan meter\n",
      "nan meter / second\n"
     ]
    },
    {
     "ename": "KeyboardInterrupt",
     "evalue": "",
     "output_type": "error",
     "traceback": [
      "\u001b[1;31m---------------------------------------------------------------------------\u001b[0m",
      "\u001b[1;31mKeyboardInterrupt\u001b[0m                         Traceback (most recent call last)",
      "\u001b[1;32m<ipython-input-42-7f4ac70346a2>\u001b[0m in \u001b[0;36m<module>\u001b[1;34m()\u001b[0m\n\u001b[0;32m      1\u001b[0m \u001b[0mforce_array\u001b[0m \u001b[1;33m=\u001b[0m \u001b[0mlinspace\u001b[0m\u001b[1;33m(\u001b[0m\u001b[1;36m0.125\u001b[0m\u001b[1;33m,\u001b[0m \u001b[1;36m2\u001b[0m\u001b[1;33m,\u001b[0m \u001b[1;36m10\u001b[0m\u001b[1;33m)\u001b[0m \u001b[1;33m*\u001b[0m \u001b[0mN\u001b[0m\u001b[1;33m\u001b[0m\u001b[0m\n\u001b[1;32m----> 2\u001b[1;33m \u001b[0msweep\u001b[0m \u001b[1;33m=\u001b[0m \u001b[0msweep_force\u001b[0m\u001b[1;33m(\u001b[0m\u001b[0mforce_array\u001b[0m\u001b[1;33m,\u001b[0m \u001b[0mparams\u001b[0m\u001b[1;33m)\u001b[0m\u001b[1;33m;\u001b[0m\u001b[1;33m\u001b[0m\u001b[0m\n\u001b[0m",
      "\u001b[1;32m<ipython-input-41-c34d512b273b>\u001b[0m in \u001b[0;36msweep_force\u001b[1;34m(force_array, params)\u001b[0m\n\u001b[0;32m      8\u001b[0m         results, details = run_ode_solver(system, slope_func, \n\u001b[0;32m      9\u001b[0m                                           \u001b[0mevents\u001b[0m\u001b[1;33m=\u001b[0m\u001b[0mevent_func\u001b[0m\u001b[1;33m,\u001b[0m\u001b[1;33m\u001b[0m\u001b[0m\n\u001b[1;32m---> 10\u001b[1;33m                                           max_step=0.1*s)\n\u001b[0m\u001b[0;32m     11\u001b[0m         \u001b[0mmax_height\u001b[0m \u001b[1;33m=\u001b[0m \u001b[0mresults\u001b[0m\u001b[1;33m.\u001b[0m\u001b[0my\u001b[0m\u001b[1;33m.\u001b[0m\u001b[0mmax\u001b[0m\u001b[1;33m(\u001b[0m\u001b[1;33m)\u001b[0m\u001b[1;33m\u001b[0m\u001b[0m\n\u001b[0;32m     12\u001b[0m         \u001b[0msweep\u001b[0m\u001b[1;33m[\u001b[0m\u001b[0mforce\u001b[0m\u001b[1;33m.\u001b[0m\u001b[0mmagnitude\u001b[0m\u001b[1;33m]\u001b[0m \u001b[1;33m=\u001b[0m \u001b[0mmax_height\u001b[0m\u001b[1;33m\u001b[0m\u001b[0m\n",
      "\u001b[1;32m~\\Documents\\ModSimPy\\code\\modsim.py\u001b[0m in \u001b[0;36mrun_ode_solver\u001b[1;34m(system, slope_func, **options)\u001b[0m\n\u001b[0;32m    495\u001b[0m     \u001b[1;31m# run the solver\u001b[0m\u001b[1;33m\u001b[0m\u001b[1;33m\u001b[0m\u001b[0m\n\u001b[0;32m    496\u001b[0m     \u001b[1;32mwith\u001b[0m \u001b[0munits_off\u001b[0m\u001b[1;33m(\u001b[0m\u001b[1;33m)\u001b[0m\u001b[1;33m:\u001b[0m\u001b[1;33m\u001b[0m\u001b[0m\n\u001b[1;32m--> 497\u001b[1;33m         \u001b[0mbunch\u001b[0m \u001b[1;33m=\u001b[0m \u001b[0msolve_ivp\u001b[0m\u001b[1;33m(\u001b[0m\u001b[0mf\u001b[0m\u001b[1;33m,\u001b[0m \u001b[1;33m[\u001b[0m\u001b[0mt_0\u001b[0m\u001b[1;33m,\u001b[0m \u001b[0mt_end\u001b[0m\u001b[1;33m]\u001b[0m\u001b[1;33m,\u001b[0m \u001b[0my_0\u001b[0m\u001b[1;33m,\u001b[0m \u001b[0mevents\u001b[0m\u001b[1;33m=\u001b[0m\u001b[0mevents\u001b[0m\u001b[1;33m,\u001b[0m \u001b[1;33m**\u001b[0m\u001b[0moptions\u001b[0m\u001b[1;33m)\u001b[0m\u001b[1;33m\u001b[0m\u001b[0m\n\u001b[0m\u001b[0;32m    498\u001b[0m \u001b[1;33m\u001b[0m\u001b[0m\n\u001b[0;32m    499\u001b[0m     \u001b[1;31m# separate the results from the details\u001b[0m\u001b[1;33m\u001b[0m\u001b[1;33m\u001b[0m\u001b[0m\n",
      "\u001b[1;32mC:\\Miniconda3\\lib\\site-packages\\scipy\\integrate\\_ivp\\ivp.py\u001b[0m in \u001b[0;36msolve_ivp\u001b[1;34m(fun, t_span, y0, method, t_eval, dense_output, events, vectorized, **options)\u001b[0m\n\u001b[0;32m    473\u001b[0m     \u001b[0mstatus\u001b[0m \u001b[1;33m=\u001b[0m \u001b[1;32mNone\u001b[0m\u001b[1;33m\u001b[0m\u001b[0m\n\u001b[0;32m    474\u001b[0m     \u001b[1;32mwhile\u001b[0m \u001b[0mstatus\u001b[0m \u001b[1;32mis\u001b[0m \u001b[1;32mNone\u001b[0m\u001b[1;33m:\u001b[0m\u001b[1;33m\u001b[0m\u001b[0m\n\u001b[1;32m--> 475\u001b[1;33m         \u001b[0mmessage\u001b[0m \u001b[1;33m=\u001b[0m \u001b[0msolver\u001b[0m\u001b[1;33m.\u001b[0m\u001b[0mstep\u001b[0m\u001b[1;33m(\u001b[0m\u001b[1;33m)\u001b[0m\u001b[1;33m\u001b[0m\u001b[0m\n\u001b[0m\u001b[0;32m    476\u001b[0m \u001b[1;33m\u001b[0m\u001b[0m\n\u001b[0;32m    477\u001b[0m         \u001b[1;32mif\u001b[0m \u001b[0msolver\u001b[0m\u001b[1;33m.\u001b[0m\u001b[0mstatus\u001b[0m \u001b[1;33m==\u001b[0m \u001b[1;34m'finished'\u001b[0m\u001b[1;33m:\u001b[0m\u001b[1;33m\u001b[0m\u001b[0m\n",
      "\u001b[1;32mC:\\Miniconda3\\lib\\site-packages\\scipy\\integrate\\_ivp\\base.py\u001b[0m in \u001b[0;36mstep\u001b[1;34m(self)\u001b[0m\n\u001b[0;32m    180\u001b[0m         \u001b[1;32melse\u001b[0m\u001b[1;33m:\u001b[0m\u001b[1;33m\u001b[0m\u001b[0m\n\u001b[0;32m    181\u001b[0m             \u001b[0mt\u001b[0m \u001b[1;33m=\u001b[0m \u001b[0mself\u001b[0m\u001b[1;33m.\u001b[0m\u001b[0mt\u001b[0m\u001b[1;33m\u001b[0m\u001b[0m\n\u001b[1;32m--> 182\u001b[1;33m             \u001b[0msuccess\u001b[0m\u001b[1;33m,\u001b[0m \u001b[0mmessage\u001b[0m \u001b[1;33m=\u001b[0m \u001b[0mself\u001b[0m\u001b[1;33m.\u001b[0m\u001b[0m_step_impl\u001b[0m\u001b[1;33m(\u001b[0m\u001b[1;33m)\u001b[0m\u001b[1;33m\u001b[0m\u001b[0m\n\u001b[0m\u001b[0;32m    183\u001b[0m \u001b[1;33m\u001b[0m\u001b[0m\n\u001b[0;32m    184\u001b[0m             \u001b[1;32mif\u001b[0m \u001b[1;32mnot\u001b[0m \u001b[0msuccess\u001b[0m\u001b[1;33m:\u001b[0m\u001b[1;33m\u001b[0m\u001b[0m\n",
      "\u001b[1;32mC:\\Miniconda3\\lib\\site-packages\\scipy\\integrate\\_ivp\\rk.py\u001b[0m in \u001b[0;36m_step_impl\u001b[1;34m(self)\u001b[0m\n\u001b[0;32m    139\u001b[0m                                           self.B, self.C, self.E, self.K)\n\u001b[0;32m    140\u001b[0m             \u001b[0mscale\u001b[0m \u001b[1;33m=\u001b[0m \u001b[0matol\u001b[0m \u001b[1;33m+\u001b[0m \u001b[0mnp\u001b[0m\u001b[1;33m.\u001b[0m\u001b[0mmaximum\u001b[0m\u001b[1;33m(\u001b[0m\u001b[0mnp\u001b[0m\u001b[1;33m.\u001b[0m\u001b[0mabs\u001b[0m\u001b[1;33m(\u001b[0m\u001b[0my\u001b[0m\u001b[1;33m)\u001b[0m\u001b[1;33m,\u001b[0m \u001b[0mnp\u001b[0m\u001b[1;33m.\u001b[0m\u001b[0mabs\u001b[0m\u001b[1;33m(\u001b[0m\u001b[0my_new\u001b[0m\u001b[1;33m)\u001b[0m\u001b[1;33m)\u001b[0m \u001b[1;33m*\u001b[0m \u001b[0mrtol\u001b[0m\u001b[1;33m\u001b[0m\u001b[0m\n\u001b[1;32m--> 141\u001b[1;33m             \u001b[0merror_norm\u001b[0m \u001b[1;33m=\u001b[0m \u001b[0mnorm\u001b[0m\u001b[1;33m(\u001b[0m\u001b[0merror\u001b[0m \u001b[1;33m/\u001b[0m \u001b[0mscale\u001b[0m\u001b[1;33m)\u001b[0m\u001b[1;33m\u001b[0m\u001b[0m\n\u001b[0m\u001b[0;32m    142\u001b[0m \u001b[1;33m\u001b[0m\u001b[0m\n\u001b[0;32m    143\u001b[0m             \u001b[1;32mif\u001b[0m \u001b[0merror_norm\u001b[0m \u001b[1;33m==\u001b[0m \u001b[1;36m0.0\u001b[0m\u001b[1;33m:\u001b[0m\u001b[1;33m\u001b[0m\u001b[0m\n",
      "\u001b[1;32mC:\\Miniconda3\\lib\\site-packages\\scipy\\integrate\\_ivp\\common.py\u001b[0m in \u001b[0;36mnorm\u001b[1;34m(x)\u001b[0m\n\u001b[0;32m     51\u001b[0m \u001b[1;32mdef\u001b[0m \u001b[0mnorm\u001b[0m\u001b[1;33m(\u001b[0m\u001b[0mx\u001b[0m\u001b[1;33m)\u001b[0m\u001b[1;33m:\u001b[0m\u001b[1;33m\u001b[0m\u001b[0m\n\u001b[0;32m     52\u001b[0m     \u001b[1;34m\"\"\"Compute RMS norm.\"\"\"\u001b[0m\u001b[1;33m\u001b[0m\u001b[0m\n\u001b[1;32m---> 53\u001b[1;33m     \u001b[1;32mreturn\u001b[0m \u001b[0mnp\u001b[0m\u001b[1;33m.\u001b[0m\u001b[0mlinalg\u001b[0m\u001b[1;33m.\u001b[0m\u001b[0mnorm\u001b[0m\u001b[1;33m(\u001b[0m\u001b[0mx\u001b[0m\u001b[1;33m)\u001b[0m \u001b[1;33m/\u001b[0m \u001b[0mx\u001b[0m\u001b[1;33m.\u001b[0m\u001b[0msize\u001b[0m \u001b[1;33m**\u001b[0m \u001b[1;36m0.5\u001b[0m\u001b[1;33m\u001b[0m\u001b[0m\n\u001b[0m\u001b[0;32m     54\u001b[0m \u001b[1;33m\u001b[0m\u001b[0m\n\u001b[0;32m     55\u001b[0m \u001b[1;33m\u001b[0m\u001b[0m\n",
      "\u001b[1;32mC:\\Miniconda3\\lib\\site-packages\\numpy\\linalg\\linalg.py\u001b[0m in \u001b[0;36mnorm\u001b[1;34m(x, ord, axis, keepdims)\u001b[0m\n\u001b[0;32m   2357\u001b[0m                 \u001b[0msqnorm\u001b[0m \u001b[1;33m=\u001b[0m \u001b[0mdot\u001b[0m\u001b[1;33m(\u001b[0m\u001b[0mx\u001b[0m\u001b[1;33m.\u001b[0m\u001b[0mreal\u001b[0m\u001b[1;33m,\u001b[0m \u001b[0mx\u001b[0m\u001b[1;33m.\u001b[0m\u001b[0mreal\u001b[0m\u001b[1;33m)\u001b[0m \u001b[1;33m+\u001b[0m \u001b[0mdot\u001b[0m\u001b[1;33m(\u001b[0m\u001b[0mx\u001b[0m\u001b[1;33m.\u001b[0m\u001b[0mimag\u001b[0m\u001b[1;33m,\u001b[0m \u001b[0mx\u001b[0m\u001b[1;33m.\u001b[0m\u001b[0mimag\u001b[0m\u001b[1;33m)\u001b[0m\u001b[1;33m\u001b[0m\u001b[0m\n\u001b[0;32m   2358\u001b[0m             \u001b[1;32melse\u001b[0m\u001b[1;33m:\u001b[0m\u001b[1;33m\u001b[0m\u001b[0m\n\u001b[1;32m-> 2359\u001b[1;33m                 \u001b[0msqnorm\u001b[0m \u001b[1;33m=\u001b[0m \u001b[0mdot\u001b[0m\u001b[1;33m(\u001b[0m\u001b[0mx\u001b[0m\u001b[1;33m,\u001b[0m \u001b[0mx\u001b[0m\u001b[1;33m)\u001b[0m\u001b[1;33m\u001b[0m\u001b[0m\n\u001b[0m\u001b[0;32m   2360\u001b[0m             \u001b[0mret\u001b[0m \u001b[1;33m=\u001b[0m \u001b[0msqrt\u001b[0m\u001b[1;33m(\u001b[0m\u001b[0msqnorm\u001b[0m\u001b[1;33m)\u001b[0m\u001b[1;33m\u001b[0m\u001b[0m\n\u001b[0;32m   2361\u001b[0m             \u001b[1;32mif\u001b[0m \u001b[0mkeepdims\u001b[0m\u001b[1;33m:\u001b[0m\u001b[1;33m\u001b[0m\u001b[0m\n",
      "\u001b[1;31mKeyboardInterrupt\u001b[0m: "
     ]
    }
   ],
   "source": [
    "force_array = linspace(0.125, 2, 10) * N \n",
    "sweep = sweep_force(force_array, params);"
   ]
  },
  {
   "cell_type": "code",
   "execution_count": null,
   "metadata": {},
   "outputs": [],
   "source": [
    "plot(sweep)\n",
    "print(sweep)\n",
    "\n",
    "decorate(xlabel='Force Applied (N)',\n",
    "         ylabel='Max Height (m)',\n",
    "         title='Force vs Max Height')"
   ]
  },
  {
   "cell_type": "markdown",
   "metadata": {},
   "source": [
    "When the force applied by the frog jumping is equal to the buoyant force due to the water, then we know the lilypad has been submerged in water."
   ]
  },
  {
   "cell_type": "code",
   "execution_count": null,
   "metadata": {},
   "outputs": [],
   "source": [
    "# motion of lilypad\n",
    "\n",
    "F_lily = - ρ * volume * g_a    # buoyant force\n",
    "F_frog = force\n",
    "\n",
    "print('Max Height: ', height)\n",
    "print('Force of Frog: ', F_frog)\n",
    "print('Buoyant Force: ', F_lily)\n",
    "\n",
    "if F_frog >= F_lily: \n",
    "    print('Result: sink')\n",
    "    new_area = (F_frog/(- ρ * y_init  * g_a))\n",
    "    print('Old Lilypad Area: ', system.area)\n",
    "    print('New Lilypad Area: ', new_area)\n",
    "else: \n",
    "    print(\"Result: float\")\n",
    "    print('Old Lilypad Area: ', system.area)\n",
    "    print('New Lilypad Area: ', system.area)\n"
   ]
  },
  {
   "cell_type": "markdown",
   "metadata": {},
   "source": [
    "### Section 2: Extending to a 2-D jump"
   ]
  },
  {
   "cell_type": "code",
   "execution_count": 43,
   "metadata": {},
   "outputs": [
    {
     "data": {
      "text/html": [
       "<div>\n",
       "<style scoped>\n",
       "    .dataframe tbody tr th:only-of-type {\n",
       "        vertical-align: middle;\n",
       "    }\n",
       "\n",
       "    .dataframe tbody tr th {\n",
       "        vertical-align: top;\n",
       "    }\n",
       "\n",
       "    .dataframe thead th {\n",
       "        text-align: right;\n",
       "    }\n",
       "</style>\n",
       "<table border=\"1\" class=\"dataframe\">\n",
       "  <thead>\n",
       "    <tr style=\"text-align: right;\">\n",
       "      <th></th>\n",
       "      <th>values</th>\n",
       "    </tr>\n",
       "  </thead>\n",
       "  <tbody>\n",
       "    <tr>\n",
       "      <th>g_a</th>\n",
       "      <td>-9.8 meter / second ** 2</td>\n",
       "    </tr>\n",
       "    <tr>\n",
       "      <th>height</th>\n",
       "      <td>1 meter</td>\n",
       "    </tr>\n",
       "    <tr>\n",
       "      <th>y_init</th>\n",
       "      <td>0.01 meter</td>\n",
       "    </tr>\n",
       "    <tr>\n",
       "      <th>m_frog</th>\n",
       "      <td>0.0128 kilogram</td>\n",
       "    </tr>\n",
       "    <tr>\n",
       "      <th>r_lilypad</th>\n",
       "      <td>0.1 meter</td>\n",
       "    </tr>\n",
       "    <tr>\n",
       "      <th>ρ</th>\n",
       "      <td>997.0 kilogram / meter ** 3</td>\n",
       "    </tr>\n",
       "    <tr>\n",
       "      <th>t_0</th>\n",
       "      <td>0 second</td>\n",
       "    </tr>\n",
       "    <tr>\n",
       "      <th>t_end</th>\n",
       "      <td>30 second</td>\n",
       "    </tr>\n",
       "    <tr>\n",
       "      <th>t_mid</th>\n",
       "      <td>0.08 second</td>\n",
       "    </tr>\n",
       "    <tr>\n",
       "      <th>force</th>\n",
       "      <td>1 newton</td>\n",
       "    </tr>\n",
       "    <tr>\n",
       "      <th>leg_length</th>\n",
       "      <td>0.1 meter</td>\n",
       "    </tr>\n",
       "    <tr>\n",
       "      <th>velocity</th>\n",
       "      <td>3.696620077854905 meter / second</td>\n",
       "    </tr>\n",
       "    <tr>\n",
       "      <th>angle</th>\n",
       "      <td>45 degree</td>\n",
       "    </tr>\n",
       "    <tr>\n",
       "      <th>p_x</th>\n",
       "      <td>0.01 meter</td>\n",
       "    </tr>\n",
       "    <tr>\n",
       "      <th>p_y</th>\n",
       "      <td>0.01 meter</td>\n",
       "    </tr>\n",
       "  </tbody>\n",
       "</table>\n",
       "</div>"
      ],
      "text/plain": [
       "g_a                   -9.8 meter / second ** 2\n",
       "height                                 1 meter\n",
       "y_init                              0.01 meter\n",
       "m_frog                         0.0128 kilogram\n",
       "r_lilypad                            0.1 meter\n",
       "ρ                  997.0 kilogram / meter ** 3\n",
       "t_0                                   0 second\n",
       "t_end                                30 second\n",
       "t_mid                              0.08 second\n",
       "force                                 1 newton\n",
       "leg_length                           0.1 meter\n",
       "velocity      3.696620077854905 meter / second\n",
       "angle                                45 degree\n",
       "p_x                                 0.01 meter\n",
       "p_y                                 0.01 meter\n",
       "dtype: object"
      ]
     },
     "execution_count": 43,
     "metadata": {},
     "output_type": "execute_result"
    }
   ],
   "source": [
    "params1 = Params(params, velocity = system.v_pos, \n",
    "                 angle = 45 * degree, \n",
    "                 p_x = 0.01 * m,\n",
    "                 p_y = 0.01 * m)"
   ]
  },
  {
   "cell_type": "code",
   "execution_count": 44,
   "metadata": {},
   "outputs": [],
   "source": [
    "# set up system values\n",
    "\n",
    "# the frog is treated as point mass\n",
    "\n",
    "\n",
    "\n",
    "def make_system1(params):\n",
    "\n",
    "    unpack(params)\n",
    "    \n",
    "    # convert angle to degrees\n",
    "    theta = np.deg2rad(angle)\n",
    "    \n",
    "    # compute x and y components of velocity\n",
    "    vx, vy = pol2cart(theta, velocity)\n",
    "    \n",
    "    # make the initial state\n",
    "    init = State(x_frog = p_x,\n",
    "                 y_frog = p_y,\n",
    "                 vx = vx,\n",
    "                 vy = vy)\n",
    "    \n",
    "    # compute area from radius\n",
    "    area = np.pi * r_lilypad **2\n",
    "    \n",
    "    return System(params, init=init, area=area)"
   ]
  },
  {
   "cell_type": "code",
   "execution_count": 45,
   "metadata": {
    "scrolled": true
   },
   "outputs": [
    {
     "data": {
      "text/html": [
       "<div>\n",
       "<style scoped>\n",
       "    .dataframe tbody tr th:only-of-type {\n",
       "        vertical-align: middle;\n",
       "    }\n",
       "\n",
       "    .dataframe tbody tr th {\n",
       "        vertical-align: top;\n",
       "    }\n",
       "\n",
       "    .dataframe thead th {\n",
       "        text-align: right;\n",
       "    }\n",
       "</style>\n",
       "<table border=\"1\" class=\"dataframe\">\n",
       "  <thead>\n",
       "    <tr style=\"text-align: right;\">\n",
       "      <th></th>\n",
       "      <th>values</th>\n",
       "    </tr>\n",
       "  </thead>\n",
       "  <tbody>\n",
       "    <tr>\n",
       "      <th>g_a</th>\n",
       "      <td>-9.8 meter / second ** 2</td>\n",
       "    </tr>\n",
       "    <tr>\n",
       "      <th>height</th>\n",
       "      <td>1 meter</td>\n",
       "    </tr>\n",
       "    <tr>\n",
       "      <th>y_init</th>\n",
       "      <td>0.01 meter</td>\n",
       "    </tr>\n",
       "    <tr>\n",
       "      <th>m_frog</th>\n",
       "      <td>0.0128 kilogram</td>\n",
       "    </tr>\n",
       "    <tr>\n",
       "      <th>r_lilypad</th>\n",
       "      <td>0.1 meter</td>\n",
       "    </tr>\n",
       "    <tr>\n",
       "      <th>ρ</th>\n",
       "      <td>997.0 kilogram / meter ** 3</td>\n",
       "    </tr>\n",
       "    <tr>\n",
       "      <th>t_0</th>\n",
       "      <td>0 second</td>\n",
       "    </tr>\n",
       "    <tr>\n",
       "      <th>t_end</th>\n",
       "      <td>30 second</td>\n",
       "    </tr>\n",
       "    <tr>\n",
       "      <th>t_mid</th>\n",
       "      <td>0.08 second</td>\n",
       "    </tr>\n",
       "    <tr>\n",
       "      <th>force</th>\n",
       "      <td>1 newton</td>\n",
       "    </tr>\n",
       "    <tr>\n",
       "      <th>leg_length</th>\n",
       "      <td>0.1 meter</td>\n",
       "    </tr>\n",
       "    <tr>\n",
       "      <th>velocity</th>\n",
       "      <td>3.696620077854905 meter / second</td>\n",
       "    </tr>\n",
       "    <tr>\n",
       "      <th>angle</th>\n",
       "      <td>45 degree</td>\n",
       "    </tr>\n",
       "    <tr>\n",
       "      <th>p_x</th>\n",
       "      <td>0.01 meter</td>\n",
       "    </tr>\n",
       "    <tr>\n",
       "      <th>p_y</th>\n",
       "      <td>0.01 meter</td>\n",
       "    </tr>\n",
       "    <tr>\n",
       "      <th>init</th>\n",
       "      <td>x_frog                           0.01 meter\n",
       "y_...</td>\n",
       "    </tr>\n",
       "    <tr>\n",
       "      <th>area</th>\n",
       "      <td>0.031415926535897934 meter ** 2</td>\n",
       "    </tr>\n",
       "  </tbody>\n",
       "</table>\n",
       "</div>"
      ],
      "text/plain": [
       "g_a                                    -9.8 meter / second ** 2\n",
       "height                                                  1 meter\n",
       "y_init                                               0.01 meter\n",
       "m_frog                                          0.0128 kilogram\n",
       "r_lilypad                                             0.1 meter\n",
       "ρ                                   997.0 kilogram / meter ** 3\n",
       "t_0                                                    0 second\n",
       "t_end                                                 30 second\n",
       "t_mid                                               0.08 second\n",
       "force                                                  1 newton\n",
       "leg_length                                            0.1 meter\n",
       "velocity                       3.696620077854905 meter / second\n",
       "angle                                                 45 degree\n",
       "p_x                                                  0.01 meter\n",
       "p_y                                                  0.01 meter\n",
       "init          x_frog                           0.01 meter\n",
       "y_...\n",
       "area                            0.031415926535897934 meter ** 2\n",
       "dtype: object"
      ]
     },
     "execution_count": 45,
     "metadata": {},
     "output_type": "execute_result"
    }
   ],
   "source": [
    "system2 = make_system1(params1)"
   ]
  },
  {
   "cell_type": "code",
   "execution_count": 46,
   "metadata": {},
   "outputs": [],
   "source": [
    "def slope_func(state, t, system):\n",
    "\n",
    "    p_x, p_y, vx, vy = state\n",
    "    unpack(system)\n",
    "\n",
    "    V = Vector(vx, vy)\n",
    "    \n",
    "    a_grav = Vector(0, g_a)\n",
    "\n",
    "    return vx, vy, a_grav.x, a_grav.y"
   ]
  },
  {
   "cell_type": "code",
   "execution_count": 47,
   "metadata": {},
   "outputs": [
    {
     "data": {
      "text/plain": [
       "(<Quantity(2.6139051245215468, 'meter / second')>,\n",
       " <Quantity(2.6139051245215468, 'meter / second')>,\n",
       " <Quantity(0.0, 'meter / second ** 2')>,\n",
       " <Quantity(-9.8, 'meter / second ** 2')>)"
      ]
     },
     "execution_count": 47,
     "metadata": {},
     "output_type": "execute_result"
    }
   ],
   "source": [
    "\n",
    "# we test it with the initial condition\n",
    "slope_func(system2.init, 0, system2)"
   ]
  },
  {
   "cell_type": "code",
   "execution_count": 48,
   "metadata": {},
   "outputs": [],
   "source": [
    "def event_func(state, t, system):\n",
    "\n",
    "    x_frog, y_frog, vx, vy = state\n",
    "    return y_frog"
   ]
  },
  {
   "cell_type": "code",
   "execution_count": 49,
   "metadata": {},
   "outputs": [],
   "source": [
    "results1, details = run_ode_solver(system2, slope_func, events=event_func, max_step=0.01*s)"
   ]
  },
  {
   "cell_type": "code",
   "execution_count": 50,
   "metadata": {},
   "outputs": [
    {
     "data": {
      "text/html": [
       "<div>\n",
       "<style scoped>\n",
       "    .dataframe tbody tr th:only-of-type {\n",
       "        vertical-align: middle;\n",
       "    }\n",
       "\n",
       "    .dataframe tbody tr th {\n",
       "        vertical-align: top;\n",
       "    }\n",
       "\n",
       "    .dataframe thead th {\n",
       "        text-align: right;\n",
       "    }\n",
       "</style>\n",
       "<table border=\"1\" class=\"dataframe\">\n",
       "  <thead>\n",
       "    <tr style=\"text-align: right;\">\n",
       "      <th></th>\n",
       "      <th>values</th>\n",
       "    </tr>\n",
       "  </thead>\n",
       "  <tbody>\n",
       "    <tr>\n",
       "      <th>sol</th>\n",
       "      <td>None</td>\n",
       "    </tr>\n",
       "    <tr>\n",
       "      <th>t_events</th>\n",
       "      <td>[[0.5372486692128715]]</td>\n",
       "    </tr>\n",
       "    <tr>\n",
       "      <th>nfev</th>\n",
       "      <td>332</td>\n",
       "    </tr>\n",
       "    <tr>\n",
       "      <th>njev</th>\n",
       "      <td>0</td>\n",
       "    </tr>\n",
       "    <tr>\n",
       "      <th>nlu</th>\n",
       "      <td>0</td>\n",
       "    </tr>\n",
       "    <tr>\n",
       "      <th>status</th>\n",
       "      <td>1</td>\n",
       "    </tr>\n",
       "    <tr>\n",
       "      <th>message</th>\n",
       "      <td>A termination event occurred.</td>\n",
       "    </tr>\n",
       "    <tr>\n",
       "      <th>success</th>\n",
       "      <td>True</td>\n",
       "    </tr>\n",
       "  </tbody>\n",
       "</table>\n",
       "</div>"
      ],
      "text/plain": [
       "sol                                  None\n",
       "t_events           [[0.5372486692128715]]\n",
       "nfev                                  332\n",
       "njev                                    0\n",
       "nlu                                     0\n",
       "status                                  1\n",
       "message     A termination event occurred.\n",
       "success                              True\n",
       "dtype: object"
      ]
     },
     "execution_count": 50,
     "metadata": {},
     "output_type": "execute_result"
    }
   ],
   "source": [
    "details"
   ]
  },
  {
   "cell_type": "code",
   "execution_count": 51,
   "metadata": {},
   "outputs": [
    {
     "data": {
      "image/png": "[encoded data removed]",
      "text/plain": [
       "<Figure size 432x288 with 1 Axes>"
      ]
     },
     "metadata": {},
     "output_type": "display_data"
    }
   ],
   "source": [
    "def plot_position(results):\n",
    "    plot(results1.x_frog, results1.y_frog)\n",
    "    decorate(xlabel='X Position (m)',\n",
    "             ylabel='Y Position (m)')\n",
    "    \n",
    "plot_position(results1)"
   ]
  },
  {
   "cell_type": "code",
   "execution_count": 52,
   "metadata": {},
   "outputs": [],
   "source": [
    "def range_func(angle, params):  \n",
    "\n",
    "    params1 = Params(params, angle=angle)\n",
    "    system1 = make_system1(params1)\n",
    "    results1, details = run_ode_solver(system1, slope_func, events=event_func, max_step=0.01*s)\n",
    "    height = max(results1.y_frog) * m\n",
    "    return height"
   ]
  },
  {
   "cell_type": "code",
   "execution_count": 53,
   "metadata": {},
   "outputs": [
    {
     "name": "stdout",
     "output_type": "stream",
     "text": [
      "20.0 0.09150192122659341 meter\n",
      "23.0 0.11642697023896359 meter\n",
      "26.0 0.14397870383551248 meter\n",
      "29.0 0.17382995837097243 meter\n",
      "32.0 0.20569552243026384 meter\n",
      "35.0 0.2393675574296331 meter\n",
      "38.0 0.27420523762820664 meter\n",
      "41.0 0.31006603038248676 meter\n",
      "44.0 0.34636557351293124 meter\n",
      "47.0 0.3829136636978859 meter\n",
      "50.0 0.4190777390492246 meter\n",
      "53.0 0.4545868724559999 meter\n",
      "56.0 0.489140494125169 meter\n",
      "59.0 0.5222260668728896 meter\n",
      "62.0 0.5534959169338473 meter\n",
      "65.0 0.5825992000765094 meter\n",
      "68.0 0.6092760634157639 meter\n",
      "71.0 0.6332904644517007 meter\n",
      "74.0 0.6541770826830287 meter\n",
      "77.0 0.6718969572854022 meter\n",
      "80.0 0.6860841132312198 meter\n"
     ]
    }
   ],
   "source": [
    "angles = linspace(20, 80, 21)\n",
    "sweep1 = SweepSeries()\n",
    "\n",
    "for angle in angles:\n",
    "    height = range_func(angle, params)\n",
    "    print(angle, height)\n",
    "    sweep1[angle] = height"
   ]
  },
  {
   "cell_type": "code",
   "execution_count": 56,
   "metadata": {
    "scrolled": true
   },
   "outputs": [
    {
     "data": {
      "image/png": "[encoded data removed]",
      "text/plain": [
       "<Figure size 432x288 with 1 Axes>"
      ]
     },
     "metadata": {},
     "output_type": "display_data"
    }
   ],
   "source": [
    "plot(sweep1, color='C2')\n",
    "decorate(xlabel='Launch angle (degree)',\n",
    "         ylabel='Height (m)',\n",
    "         title='The Maximum Height Reached When Launch Angle Changes',\n",
    "         legend=False)"
   ]
  },
  {
   "cell_type": "markdown",
   "metadata": {},
   "source": [
    "By comparing this graph to the one we generated in Force vs Max Height, we can find the relationship between the angle of frog jump and the force that is exerted on the lilypad, given a certian magnitude of velocity. "
   ]
  },
  {
   "cell_type": "markdown",
   "metadata": {},
   "source": [
    "## Results"
   ]
  },
  {
   "cell_type": "markdown",
   "metadata": {},
   "source": [
    "## Interpretation"
   ]
  },
  {
   "cell_type": "code",
   "execution_count": null,
   "metadata": {},
   "outputs": [],
   "source": []
  },
  {
   "cell_type": "code",
   "execution_count": null,
   "metadata": {},
   "outputs": [],
   "source": []
  }
 ],
 "metadata": {
  "kernelspec": {
   "display_name": "Python 3",
   "language": "python",
   "name": "python3"
  },
  "language_info": {
   "codemirror_mode": {
    "name": "ipython",
    "version": 3
   },
   "file_extension": ".py",
   "mimetype": "text/x-python",
   "name": "python",
   "nbconvert_exporter": "python",
   "pygments_lexer": "ipython3",
   "version": "3.6.6"
  }
 },
 "nbformat": 4,
 "nbformat_minor": 2
}
