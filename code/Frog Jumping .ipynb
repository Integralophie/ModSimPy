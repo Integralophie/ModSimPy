{
 "cells": [
  {
   "cell_type": "markdown",
   "metadata": {},
   "source": [
    "# Project 3"
   ]
  },
  {
   "cell_type": "markdown",
   "metadata": {},
   "source": [
    "Sophie and Becca"
   ]
  },
  {
   "cell_type": "code",
   "execution_count": 82,
   "metadata": {},
   "outputs": [],
   "source": [
    "# Configure Jupyter so figures appear in the notebook\n",
    "%matplotlib inline\n",
    "\n",
    "# Configure Jupyter to display the assigned value after an assignment\n",
    "%config InteractiveShell.ast_node_interactivity='last_expr_or_assign'\n",
    "\n",
    "# import functions from the modsim.py module\n",
    "from modsim import *\n",
    "import scipy \n",
    "from numpy import sqrt, sin, cos, pi\n",
    "import matplotlib.pyplot as plt\n",
    "import numpy as np  \n"
   ]
  },
  {
   "cell_type": "code",
   "execution_count": 83,
   "metadata": {},
   "outputs": [
    {
     "data": {
      "text/html": [
       "meter"
      ],
      "text/latex": [
       "$meter$"
      ],
      "text/plain": [
       "<Unit('meter')>"
      ]
     },
     "execution_count": 83,
     "metadata": {},
     "output_type": "execute_result"
    }
   ],
   "source": [
    "# import units needed in the model\n",
    "s = UNITS.second\n",
    "N = UNITS.newton\n",
    "kg = UNITS.kilogram\n",
    "m = UNITS.meter\n"
   ]
  },
  {
   "cell_type": "code",
   "execution_count": 84,
   "metadata": {},
   "outputs": [
    {
     "data": {
      "text/html": [
       "<div>\n",
       "<style scoped>\n",
       "    .dataframe tbody tr th:only-of-type {\n",
       "        vertical-align: middle;\n",
       "    }\n",
       "\n",
       "    .dataframe tbody tr th {\n",
       "        vertical-align: top;\n",
       "    }\n",
       "\n",
       "    .dataframe thead th {\n",
       "        text-align: right;\n",
       "    }\n",
       "</style>\n",
       "<table border=\"1\" class=\"dataframe\">\n",
       "  <thead>\n",
       "    <tr style=\"text-align: right;\">\n",
       "      <th></th>\n",
       "      <th>values</th>\n",
       "    </tr>\n",
       "  </thead>\n",
       "  <tbody>\n",
       "    <tr>\n",
       "      <th>g_a</th>\n",
       "      <td>-9.8 meter / second ** 2</td>\n",
       "    </tr>\n",
       "    <tr>\n",
       "      <th>v_init</th>\n",
       "      <td>10.0 meter / second</td>\n",
       "    </tr>\n",
       "    <tr>\n",
       "      <th>y_init</th>\n",
       "      <td>0.1 meter</td>\n",
       "    </tr>\n",
       "    <tr>\n",
       "      <th>m_frog</th>\n",
       "      <td>0.1 kilogram</td>\n",
       "    </tr>\n",
       "    <tr>\n",
       "      <th>r_lilypad</th>\n",
       "      <td>0.1 meter</td>\n",
       "    </tr>\n",
       "    <tr>\n",
       "      <th>ρ</th>\n",
       "      <td>997.0 kilogram / meter ** 3</td>\n",
       "    </tr>\n",
       "    <tr>\n",
       "      <th>t_0</th>\n",
       "      <td>0 second</td>\n",
       "    </tr>\n",
       "    <tr>\n",
       "      <th>t_end</th>\n",
       "      <td>300 second</td>\n",
       "    </tr>\n",
       "  </tbody>\n",
       "</table>\n",
       "</div>"
      ],
      "text/plain": [
       "g_a             -9.8 meter / second ** 2\n",
       "v_init               10.0 meter / second\n",
       "y_init                         0.1 meter\n",
       "m_frog                      0.1 kilogram\n",
       "r_lilypad                      0.1 meter\n",
       "ρ            997.0 kilogram / meter ** 3\n",
       "t_0                             0 second\n",
       "t_end                         300 second\n",
       "dtype: object"
      ]
     },
     "execution_count": 84,
     "metadata": {},
     "output_type": "execute_result"
    }
   ],
   "source": [
    "params = Params( \n",
    "                g_a = - 9.8 * m / s **2,    # gravitational acceleration\n",
    "                v_init = 10 * m / s,       # initial velocity\n",
    "                y_init = 0.1 * m,            # initial position\n",
    "                m_frog = 0.1 * kg,        # mass of the frog\n",
    "                r_lilypad = 0.1 * m,      # radius of lilypad\n",
    "                ρ = 997 * kg / m**3,      # density of water \n",
    "                t_0 = 0 * s,              # t at 0s\n",
    "                t_end = 300 * s,\n",
    "                )"
   ]
  },
  {
   "cell_type": "code",
   "execution_count": 85,
   "metadata": {},
   "outputs": [],
   "source": [
    "def make_system(params):\n",
    "    \n",
    "    unpack(params)\n",
    "    \n",
    "    area = np.pi * (r_lilypad)**2\n",
    "    volume = area * 5e-3 * m               # volume of lilypad / displaced water\n",
    "    init = State(y=y_init, v=v_init)\n",
    "    t_0 = 0 * s\n",
    "    t_end = 30 * s\n",
    "    \n",
    "    return System(params, volume = volume, init = init)"
   ]
  },
  {
   "cell_type": "code",
   "execution_count": 86,
   "metadata": {},
   "outputs": [
    {
     "data": {
      "text/html": [
       "<div>\n",
       "<style scoped>\n",
       "    .dataframe tbody tr th:only-of-type {\n",
       "        vertical-align: middle;\n",
       "    }\n",
       "\n",
       "    .dataframe tbody tr th {\n",
       "        vertical-align: top;\n",
       "    }\n",
       "\n",
       "    .dataframe thead th {\n",
       "        text-align: right;\n",
       "    }\n",
       "</style>\n",
       "<table border=\"1\" class=\"dataframe\">\n",
       "  <thead>\n",
       "    <tr style=\"text-align: right;\">\n",
       "      <th></th>\n",
       "      <th>values</th>\n",
       "    </tr>\n",
       "  </thead>\n",
       "  <tbody>\n",
       "    <tr>\n",
       "      <th>g_a</th>\n",
       "      <td>-9.8 meter / second ** 2</td>\n",
       "    </tr>\n",
       "    <tr>\n",
       "      <th>v_init</th>\n",
       "      <td>10.0 meter / second</td>\n",
       "    </tr>\n",
       "    <tr>\n",
       "      <th>y_init</th>\n",
       "      <td>0.1 meter</td>\n",
       "    </tr>\n",
       "    <tr>\n",
       "      <th>m_frog</th>\n",
       "      <td>0.1 kilogram</td>\n",
       "    </tr>\n",
       "    <tr>\n",
       "      <th>r_lilypad</th>\n",
       "      <td>0.1 meter</td>\n",
       "    </tr>\n",
       "    <tr>\n",
       "      <th>ρ</th>\n",
       "      <td>997.0 kilogram / meter ** 3</td>\n",
       "    </tr>\n",
       "    <tr>\n",
       "      <th>t_0</th>\n",
       "      <td>0 second</td>\n",
       "    </tr>\n",
       "    <tr>\n",
       "      <th>t_end</th>\n",
       "      <td>300 second</td>\n",
       "    </tr>\n",
       "    <tr>\n",
       "      <th>volume</th>\n",
       "      <td>0.00015707963267948968 meter ** 3</td>\n",
       "    </tr>\n",
       "    <tr>\n",
       "      <th>init</th>\n",
       "      <td>y              0.1 meter\n",
       "v    10.0 meter / sec...</td>\n",
       "    </tr>\n",
       "  </tbody>\n",
       "</table>\n",
       "</div>"
      ],
      "text/plain": [
       "g_a                                   -9.8 meter / second ** 2\n",
       "v_init                                     10.0 meter / second\n",
       "y_init                                               0.1 meter\n",
       "m_frog                                            0.1 kilogram\n",
       "r_lilypad                                            0.1 meter\n",
       "ρ                                  997.0 kilogram / meter ** 3\n",
       "t_0                                                   0 second\n",
       "t_end                                               300 second\n",
       "volume                       0.00015707963267948968 meter ** 3\n",
       "init         y              0.1 meter\n",
       "v    10.0 meter / sec...\n",
       "dtype: object"
      ]
     },
     "execution_count": 86,
     "metadata": {},
     "output_type": "execute_result"
    }
   ],
   "source": [
    "system = make_system(params)\n"
   ]
  },
  {
   "cell_type": "code",
   "execution_count": 87,
   "metadata": {},
   "outputs": [],
   "source": [
    "def slope_func(state, t, system):\n",
    "\n",
    "    y, v = state\n",
    "    unpack(system)\n",
    "    \n",
    "    #sqrt(2 * g_a * y)- g_a * (t*s) \n",
    "    dydt = v                              #velocity at certain point\n",
    "    dvdt = g_a                            #acceleration due to gravity \n",
    "    \n",
    "    return dydt, dvdt"
   ]
  },
  {
   "cell_type": "code",
   "execution_count": 88,
   "metadata": {},
   "outputs": [
    {
     "data": {
      "text/plain": [
       "(<Quantity(10.0, 'meter / second')>, <Quantity(-9.8, 'meter / second ** 2')>)"
      ]
     },
     "execution_count": 88,
     "metadata": {},
     "output_type": "execute_result"
    }
   ],
   "source": [
    "slope_func(system.init, 0, system)"
   ]
  },
  {
   "cell_type": "code",
   "execution_count": 89,
   "metadata": {},
   "outputs": [],
   "source": [
    "def event_func(state, t, system):\n",
    "    \"\"\"Return the height of the penny above the sidewalk.\n",
    "    \"\"\"\n",
    "    y, v = state\n",
    "    return y"
   ]
  },
  {
   "cell_type": "code",
   "execution_count": 90,
   "metadata": {},
   "outputs": [
    {
     "data": {
      "text/html": [
       "<div>\n",
       "<style scoped>\n",
       "    .dataframe tbody tr th:only-of-type {\n",
       "        vertical-align: middle;\n",
       "    }\n",
       "\n",
       "    .dataframe tbody tr th {\n",
       "        vertical-align: top;\n",
       "    }\n",
       "\n",
       "    .dataframe thead th {\n",
       "        text-align: right;\n",
       "    }\n",
       "</style>\n",
       "<table border=\"1\" class=\"dataframe\">\n",
       "  <thead>\n",
       "    <tr style=\"text-align: right;\">\n",
       "      <th></th>\n",
       "      <th>y</th>\n",
       "      <th>v</th>\n",
       "    </tr>\n",
       "  </thead>\n",
       "  <tbody>\n",
       "    <tr>\n",
       "      <th>0.000000</th>\n",
       "      <td>1.000000e-01</td>\n",
       "      <td>10.000000</td>\n",
       "    </tr>\n",
       "    <tr>\n",
       "      <th>0.014212</th>\n",
       "      <td>2.411264e-01</td>\n",
       "      <td>9.860726</td>\n",
       "    </tr>\n",
       "    <tr>\n",
       "      <th>0.114212</th>\n",
       "      <td>1.178199e+00</td>\n",
       "      <td>8.880726</td>\n",
       "    </tr>\n",
       "    <tr>\n",
       "      <th>0.214212</th>\n",
       "      <td>2.017272e+00</td>\n",
       "      <td>7.900726</td>\n",
       "    </tr>\n",
       "    <tr>\n",
       "      <th>0.314212</th>\n",
       "      <td>2.758344e+00</td>\n",
       "      <td>6.920726</td>\n",
       "    </tr>\n",
       "    <tr>\n",
       "      <th>0.414212</th>\n",
       "      <td>3.401417e+00</td>\n",
       "      <td>5.940726</td>\n",
       "    </tr>\n",
       "    <tr>\n",
       "      <th>0.514212</th>\n",
       "      <td>3.946490e+00</td>\n",
       "      <td>4.960726</td>\n",
       "    </tr>\n",
       "    <tr>\n",
       "      <th>0.614212</th>\n",
       "      <td>4.393562e+00</td>\n",
       "      <td>3.980726</td>\n",
       "    </tr>\n",
       "    <tr>\n",
       "      <th>0.714212</th>\n",
       "      <td>4.742635e+00</td>\n",
       "      <td>3.000726</td>\n",
       "    </tr>\n",
       "    <tr>\n",
       "      <th>0.814212</th>\n",
       "      <td>4.993707e+00</td>\n",
       "      <td>2.020726</td>\n",
       "    </tr>\n",
       "    <tr>\n",
       "      <th>0.914212</th>\n",
       "      <td>5.146780e+00</td>\n",
       "      <td>1.040726</td>\n",
       "    </tr>\n",
       "    <tr>\n",
       "      <th>1.014212</th>\n",
       "      <td>5.201853e+00</td>\n",
       "      <td>0.060726</td>\n",
       "    </tr>\n",
       "    <tr>\n",
       "      <th>1.114212</th>\n",
       "      <td>5.158925e+00</td>\n",
       "      <td>-0.919274</td>\n",
       "    </tr>\n",
       "    <tr>\n",
       "      <th>1.214212</th>\n",
       "      <td>5.017998e+00</td>\n",
       "      <td>-1.899274</td>\n",
       "    </tr>\n",
       "    <tr>\n",
       "      <th>1.314212</th>\n",
       "      <td>4.779071e+00</td>\n",
       "      <td>-2.879274</td>\n",
       "    </tr>\n",
       "    <tr>\n",
       "      <th>1.414212</th>\n",
       "      <td>4.442143e+00</td>\n",
       "      <td>-3.859274</td>\n",
       "    </tr>\n",
       "    <tr>\n",
       "      <th>1.514212</th>\n",
       "      <td>4.007216e+00</td>\n",
       "      <td>-4.839274</td>\n",
       "    </tr>\n",
       "    <tr>\n",
       "      <th>1.614212</th>\n",
       "      <td>3.474288e+00</td>\n",
       "      <td>-5.819274</td>\n",
       "    </tr>\n",
       "    <tr>\n",
       "      <th>1.714212</th>\n",
       "      <td>2.843361e+00</td>\n",
       "      <td>-6.799274</td>\n",
       "    </tr>\n",
       "    <tr>\n",
       "      <th>1.814212</th>\n",
       "      <td>2.114434e+00</td>\n",
       "      <td>-7.779274</td>\n",
       "    </tr>\n",
       "    <tr>\n",
       "      <th>1.914212</th>\n",
       "      <td>1.287506e+00</td>\n",
       "      <td>-8.759274</td>\n",
       "    </tr>\n",
       "    <tr>\n",
       "      <th>2.014212</th>\n",
       "      <td>3.625789e-01</td>\n",
       "      <td>-9.739274</td>\n",
       "    </tr>\n",
       "    <tr>\n",
       "      <th>2.050768</th>\n",
       "      <td>3.608225e-15</td>\n",
       "      <td>-10.097524</td>\n",
       "    </tr>\n",
       "  </tbody>\n",
       "</table>\n",
       "</div>"
      ],
      "text/plain": [
       "                     y          v\n",
       "0.000000  1.000000e-01  10.000000\n",
       "0.014212  2.411264e-01   9.860726\n",
       "0.114212  1.178199e+00   8.880726\n",
       "0.214212  2.017272e+00   7.900726\n",
       "0.314212  2.758344e+00   6.920726\n",
       "0.414212  3.401417e+00   5.940726\n",
       "0.514212  3.946490e+00   4.960726\n",
       "0.614212  4.393562e+00   3.980726\n",
       "0.714212  4.742635e+00   3.000726\n",
       "0.814212  4.993707e+00   2.020726\n",
       "0.914212  5.146780e+00   1.040726\n",
       "1.014212  5.201853e+00   0.060726\n",
       "1.114212  5.158925e+00  -0.919274\n",
       "1.214212  5.017998e+00  -1.899274\n",
       "1.314212  4.779071e+00  -2.879274\n",
       "1.414212  4.442143e+00  -3.859274\n",
       "1.514212  4.007216e+00  -4.839274\n",
       "1.614212  3.474288e+00  -5.819274\n",
       "1.714212  2.843361e+00  -6.799274\n",
       "1.814212  2.114434e+00  -7.779274\n",
       "1.914212  1.287506e+00  -8.759274\n",
       "2.014212  3.625789e-01  -9.739274\n",
       "2.050768  3.608225e-15 -10.097524"
      ]
     },
     "execution_count": 90,
     "metadata": {},
     "output_type": "execute_result"
    }
   ],
   "source": [
    "results, details = run_ode_solver(system, slope_func, events=event_func, max_step=0.1*s)\n",
    "details.message\n",
    "results"
   ]
  },
  {
   "cell_type": "code",
   "execution_count": 91,
   "metadata": {},
   "outputs": [
    {
     "name": "stdout",
     "output_type": "stream",
     "text": [
      "Saving figure to file figs/chap09-fig02.pdf\n"
     ]
    },
    {
     "data": {
      "image/png": "[encoded data removed]",
      "text/plain": [
       "<Figure size 432x288 with 1 Axes>"
      ]
     },
     "metadata": {},
     "output_type": "display_data"
    }
   ],
   "source": [
    "def plot_position(results):\n",
    "    plot(results.y)\n",
    "    decorate(xlabel='Time (s)',\n",
    "             ylabel='Position (m)')\n",
    "    \n",
    "plot_position(results)\n",
    "savefig('figs/chap09-fig02.pdf')"
   ]
  },
  {
   "cell_type": "markdown",
   "metadata": {},
   "source": [
    "When the force applied by the frog jumping is equal to the buoyant force due to the water, then we know the lilypad has been submerged in water."
   ]
  },
  {
   "cell_type": "markdown",
   "metadata": {},
   "source": [
    "<img src=\"diagrams/force_graph.png\" width=300 height=300>\n",
    "Source: https://pdfs.semanticscholar.org/3c26/3adf9dec3a122deb6d43492ba7b09cc5ac7e.pdf\n",
    "<img src=\"diagrams/force_graph_spline.png\" width=300 height=300>"
   ]
  },
  {
   "cell_type": "code",
   "execution_count": 92,
   "metadata": {},
   "outputs": [
    {
     "data": {
      "text/plain": [
       "(0.1492576936078532, 1.6570932804588568e-15)"
      ]
     },
     "execution_count": 92,
     "metadata": {},
     "output_type": "execute_result"
    }
   ],
   "source": [
    "from scipy.integrate import quad\n",
    "\n",
    "def integrand(x, a0, a1, b1, a2, b2, a3, b3, w):\n",
    "    \n",
    "    return a0 + a1 * cos( x * w ) + b1 * sin( x * w ) + a2 * cos( 2 * x * w ) + b2 * sin( 2 * x * w ) + a3 * cos( 3 * x * w ) + b3 * sin( 3 * x * w )\n",
    "\n",
    "a0 = 0.2677 \n",
    "a1 = -0.3003\n",
    "b1 = 0.4249 \n",
    "a2 = 0.1534\n",
    "b2 = -0.1254\n",
    "a3 = 0.02675 \n",
    "b3 = -0.03189 \n",
    "w = 0.04902 \n",
    "\n",
    "I = quad(integrand, 0, 1, args=(a0, a1, b1, a2, b2, a3, b3, w))\n",
    "I\n"
   ]
  },
  {
   "cell_type": "code",
   "execution_count": 93,
   "metadata": {},
   "outputs": [
    {
     "name": "stdout",
     "output_type": "stream",
     "text": [
      "float\n"
     ]
    }
   ],
   "source": [
    "# motion of lilypad\n",
    "\n",
    "\n",
    "\n",
    "\n",
    "F_lily = - ρ * volume * g_a     # buoyant force\n",
    "F_frog = 0.6 * N\n",
    "\n",
    "if F_frog >= F_lily: \n",
    "    print(\"sink\")\n",
    "\n",
    "else: \n",
    "    print(\"float\")\n"
   ]
  },
  {
   "cell_type": "code",
   "execution_count": 103,
   "metadata": {},
   "outputs": [],
   "source": [
    "def sweep_height(height, params):  \n",
    "\n",
    "    params = Params(params, height = height)\n",
    "    system = make_system(params)\n",
    "    Force = \n",
    "    return Force"
   ]
  },
  {
   "cell_type": "code",
   "execution_count": 105,
   "metadata": {},
   "outputs": [
    {
     "name": "stdout",
     "output_type": "stream",
     "text": [
      "1.0 3.6813818828533735 meter\n",
      "2.0 3.6813818828533735 meter\n",
      "3.0 3.6813818828533735 meter\n",
      "4.0 3.6813818828533735 meter\n",
      "5.0 3.6813818828533735 meter\n",
      "6.0 3.6813818828533735 meter\n",
      "7.0 3.6813818828533735 meter\n",
      "8.0 3.6813818828533735 meter\n",
      "9.0 3.6813818828533735 meter\n",
      "10.0 3.6813818828533735 meter\n"
     ]
    }
   ],
   "source": [
    "heights = linspace(1, 10, 10)\n",
    "sweep = SweepSeries()\n",
    "\n",
    "for height in heights:\n",
    "    Force = sweep_height(height, params)\n",
    "    print(height, Force)\n",
    "    sweep[height] = Force"
   ]
  },
  {
   "cell_type": "code",
   "execution_count": 109,
   "metadata": {},
   "outputs": [
    {
     "data": {
      "text/html": [
       "[0. 0.] meter"
      ],
      "text/latex": [
       "$[0. 0.] meter$"
      ],
      "text/plain": [
       "<Quantity([0. 0.], 'meter')>"
      ]
     },
     "execution_count": 109,
     "metadata": {},
     "output_type": "execute_result"
    }
   ],
   "source": [
    "# set up initial values\n",
    "\n",
    "v = Vector(1, 1) * m / s       # velocity vector of the frog\n",
    "p_frog = Vector(1, 1) * m      # position vector of the frog\n",
    "p_lily = Vector(0, 0) * m      # position vector of the lilypad\n",
    "\n",
    "# By setting uo initial velocity manually, a certain maximum height is determined\n",
    "# We can sweep through a series of initial velocity\n",
    "\n"
   ]
  },
  {
   "cell_type": "code",
   "execution_count": 110,
   "metadata": {},
   "outputs": [],
   "source": [
    "# set up system values\n",
    "\n",
    "# the frog is treated as point mass\n",
    "\n",
    "\n",
    "\n",
    "def make_system1(params):\n",
    "\n",
    "    unpack(params)\n",
    "    \n",
    "\n",
    "    \n",
    "    # make the initial state\n",
    "    init = State(x_frog = p_frog.x,\n",
    "                 y_frog = p_frog.y,\n",
    "                 vx = v.x,\n",
    "                 vy = v.y)\n",
    "    \n",
    "    # compute area from radius\n",
    "    area = np.pi * r_lilypad **2\n",
    "    \n",
    "    return System(params, init=init, area=area)"
   ]
  },
  {
   "cell_type": "code",
   "execution_count": 111,
   "metadata": {
    "scrolled": true
   },
   "outputs": [
    {
     "data": {
      "text/html": [
       "<div>\n",
       "<style scoped>\n",
       "    .dataframe tbody tr th:only-of-type {\n",
       "        vertical-align: middle;\n",
       "    }\n",
       "\n",
       "    .dataframe tbody tr th {\n",
       "        vertical-align: top;\n",
       "    }\n",
       "\n",
       "    .dataframe thead th {\n",
       "        text-align: right;\n",
       "    }\n",
       "</style>\n",
       "<table border=\"1\" class=\"dataframe\">\n",
       "  <thead>\n",
       "    <tr style=\"text-align: right;\">\n",
       "      <th></th>\n",
       "      <th>values</th>\n",
       "    </tr>\n",
       "  </thead>\n",
       "  <tbody>\n",
       "    <tr>\n",
       "      <th>g_a</th>\n",
       "      <td>-9.8 meter / second ** 2</td>\n",
       "    </tr>\n",
       "    <tr>\n",
       "      <th>v_init</th>\n",
       "      <td>10.0 meter / second</td>\n",
       "    </tr>\n",
       "    <tr>\n",
       "      <th>y_init</th>\n",
       "      <td>0.1 meter</td>\n",
       "    </tr>\n",
       "    <tr>\n",
       "      <th>m_frog</th>\n",
       "      <td>0.1 kilogram</td>\n",
       "    </tr>\n",
       "    <tr>\n",
       "      <th>r_lilypad</th>\n",
       "      <td>0.1 meter</td>\n",
       "    </tr>\n",
       "    <tr>\n",
       "      <th>ρ</th>\n",
       "      <td>997.0 kilogram / meter ** 3</td>\n",
       "    </tr>\n",
       "    <tr>\n",
       "      <th>t_0</th>\n",
       "      <td>0 second</td>\n",
       "    </tr>\n",
       "    <tr>\n",
       "      <th>t_end</th>\n",
       "      <td>300 second</td>\n",
       "    </tr>\n",
       "    <tr>\n",
       "      <th>init</th>\n",
       "      <td>x_frog             1.0 meter\n",
       "y_frog           ...</td>\n",
       "    </tr>\n",
       "    <tr>\n",
       "      <th>area</th>\n",
       "      <td>0.031415926535897934 meter ** 2</td>\n",
       "    </tr>\n",
       "  </tbody>\n",
       "</table>\n",
       "</div>"
      ],
      "text/plain": [
       "g_a                                   -9.8 meter / second ** 2\n",
       "v_init                                     10.0 meter / second\n",
       "y_init                                               0.1 meter\n",
       "m_frog                                            0.1 kilogram\n",
       "r_lilypad                                            0.1 meter\n",
       "ρ                                  997.0 kilogram / meter ** 3\n",
       "t_0                                                   0 second\n",
       "t_end                                               300 second\n",
       "init         x_frog             1.0 meter\n",
       "y_frog           ...\n",
       "area                           0.031415926535897934 meter ** 2\n",
       "dtype: object"
      ]
     },
     "execution_count": 111,
     "metadata": {},
     "output_type": "execute_result"
    }
   ],
   "source": [
    "system1 = make_system1(params)"
   ]
  },
  {
   "cell_type": "code",
   "execution_count": 112,
   "metadata": {},
   "outputs": [],
   "source": [
    "def slope_func(state, t, system):\n",
    "\n",
    "    x_frog, y_frog, vx, vy = state\n",
    "    unpack(system)\n",
    "\n",
    "    V = Vector(vx, vy)\n",
    "    \n",
    "    a_grav = Vector(0, g_a)\n",
    "\n",
    "    return vx, vy, a_grav.x, a_grav.y"
   ]
  },
  {
   "cell_type": "code",
   "execution_count": 113,
   "metadata": {},
   "outputs": [
    {
     "data": {
      "text/plain": [
       "(<Quantity(1.0, 'meter / second')>,\n",
       " <Quantity(1.0, 'meter / second')>,\n",
       " <Quantity(0.0, 'meter / second ** 2')>,\n",
       " <Quantity(-9.8, 'meter / second ** 2')>)"
      ]
     },
     "execution_count": 113,
     "metadata": {},
     "output_type": "execute_result"
    }
   ],
   "source": [
    "# we test it with the initial condition\n",
    "slope_func(system1.init, 0, system)"
   ]
  },
  {
   "cell_type": "code",
   "execution_count": 114,
   "metadata": {},
   "outputs": [],
   "source": [
    "def event_func(state, t, system):\n",
    "\n",
    "    x_frog, y_frog, vx, vy = state\n",
    "    return y_frog"
   ]
  },
  {
   "cell_type": "code",
   "execution_count": 115,
   "metadata": {},
   "outputs": [],
   "source": [
    "results1, details = run_ode_solver(system1, slope_func, events=event_func, max_step=0.01*s)"
   ]
  },
  {
   "cell_type": "code",
   "execution_count": 116,
   "metadata": {},
   "outputs": [
    {
     "data": {
      "text/html": [
       "<div>\n",
       "<style scoped>\n",
       "    .dataframe tbody tr th:only-of-type {\n",
       "        vertical-align: middle;\n",
       "    }\n",
       "\n",
       "    .dataframe tbody tr th {\n",
       "        vertical-align: top;\n",
       "    }\n",
       "\n",
       "    .dataframe thead th {\n",
       "        text-align: right;\n",
       "    }\n",
       "</style>\n",
       "<table border=\"1\" class=\"dataframe\">\n",
       "  <thead>\n",
       "    <tr style=\"text-align: right;\">\n",
       "      <th></th>\n",
       "      <th>values</th>\n",
       "    </tr>\n",
       "  </thead>\n",
       "  <tbody>\n",
       "    <tr>\n",
       "      <th>sol</th>\n",
       "      <td>None</td>\n",
       "    </tr>\n",
       "    <tr>\n",
       "      <th>t_events</th>\n",
       "      <td>[[0.5651757435881722]]</td>\n",
       "    </tr>\n",
       "    <tr>\n",
       "      <th>nfev</th>\n",
       "      <td>344</td>\n",
       "    </tr>\n",
       "    <tr>\n",
       "      <th>njev</th>\n",
       "      <td>0</td>\n",
       "    </tr>\n",
       "    <tr>\n",
       "      <th>nlu</th>\n",
       "      <td>0</td>\n",
       "    </tr>\n",
       "    <tr>\n",
       "      <th>status</th>\n",
       "      <td>1</td>\n",
       "    </tr>\n",
       "    <tr>\n",
       "      <th>message</th>\n",
       "      <td>A termination event occurred.</td>\n",
       "    </tr>\n",
       "    <tr>\n",
       "      <th>success</th>\n",
       "      <td>True</td>\n",
       "    </tr>\n",
       "  </tbody>\n",
       "</table>\n",
       "</div>"
      ],
      "text/plain": [
       "sol                                  None\n",
       "t_events           [[0.5651757435881722]]\n",
       "nfev                                  344\n",
       "njev                                    0\n",
       "nlu                                     0\n",
       "status                                  1\n",
       "message     A termination event occurred.\n",
       "success                              True\n",
       "dtype: object"
      ]
     },
     "execution_count": 116,
     "metadata": {},
     "output_type": "execute_result"
    }
   ],
   "source": [
    "details"
   ]
  },
  {
   "cell_type": "code",
   "execution_count": 120,
   "metadata": {},
   "outputs": [
    {
     "data": {
      "image/png": "[encoded data removed]",
      "text/plain": [
       "<Figure size 432x288 with 1 Axes>"
      ]
     },
     "metadata": {},
     "output_type": "display_data"
    }
   ],
   "source": [
    "def plot_position(results):\n",
    "    plot(results1.y_frog)\n",
    "    decorate(xlabel='Time (s)',\n",
    "             ylabel='Position (m)')\n",
    "    \n",
    "plot_position(results1)"
   ]
  },
  {
   "cell_type": "code",
   "execution_count": 127,
   "metadata": {},
   "outputs": [],
   "source": [
    "def make_system2(params):\n",
    "\n",
    "    unpack(params)\n",
    "    \n",
    "    # convert angle to degrees\n",
    "    theta = np.deg2rad(angle)\n",
    "    \n",
    "    # compute x and y components of velocity\n",
    "    velocity = 10 * m / s # remember to change it in terms of height\n",
    "    vx, vy = pol2cart(theta, velocity)\n",
    "    \n",
    "    # make the initial state\n",
    "    init = State(x_frog = p_frog.x,\n",
    "                 y_frog = p_frog.y,\n",
    "                 vx = v.x,\n",
    "                 vy = v.y)\n",
    "\n",
    "     # compute area from radius\n",
    "    area = np.pi * r_lilypad **2\n",
    "    \n",
    "    return System(params, init=init, area=area)"
   ]
  },
  {
   "cell_type": "code",
   "execution_count": 128,
   "metadata": {},
   "outputs": [],
   "source": [
    "def range_func(angle, params):  \n",
    "\n",
    "    params = Params(params, angle=angle)\n",
    "    system2 = make_system2(params)\n",
    "    results, details = run_ode_solver(system2, slope_func, events=event_func)\n",
    "    x_dist = get_last_value(results1.y_frog) * m\n",
    "    return x_dist"
   ]
  },
  {
   "cell_type": "code",
   "execution_count": 129,
   "metadata": {},
   "outputs": [
    {
     "name": "stdout",
     "output_type": "stream",
     "text": [
      "20.0 -2.7755575615628914e-17 meter\n",
      "23.0 -2.7755575615628914e-17 meter\n",
      "26.0 -2.7755575615628914e-17 meter\n",
      "29.0 -2.7755575615628914e-17 meter\n",
      "32.0 -2.7755575615628914e-17 meter\n",
      "35.0 -2.7755575615628914e-17 meter\n",
      "38.0 -2.7755575615628914e-17 meter\n",
      "41.0 -2.7755575615628914e-17 meter\n",
      "44.0 -2.7755575615628914e-17 meter\n",
      "47.0 -2.7755575615628914e-17 meter\n",
      "50.0 -2.7755575615628914e-17 meter\n",
      "53.0 -2.7755575615628914e-17 meter\n",
      "56.0 -2.7755575615628914e-17 meter\n",
      "59.0 -2.7755575615628914e-17 meter\n",
      "62.0 -2.7755575615628914e-17 meter\n",
      "65.0 -2.7755575615628914e-17 meter\n",
      "68.0 -2.7755575615628914e-17 meter\n",
      "71.0 -2.7755575615628914e-17 meter\n",
      "74.0 -2.7755575615628914e-17 meter\n",
      "77.0 -2.7755575615628914e-17 meter\n",
      "80.0 -2.7755575615628914e-17 meter\n"
     ]
    }
   ],
   "source": [
    "angles = linspace(20, 80, 21)\n",
    "sweep = SweepSeries()\n",
    "\n",
    "for angle in angles:\n",
    "    x_dist = range_func(angle, params)\n",
    "    print(angle, x_dist)\n",
    "    sweep[angle] = x_dist"
   ]
  },
  {
   "cell_type": "code",
   "execution_count": null,
   "metadata": {},
   "outputs": [],
   "source": []
  },
  {
   "cell_type": "code",
   "execution_count": null,
   "metadata": {},
   "outputs": [],
   "source": []
  }
 ],
 "metadata": {
  "kernelspec": {
   "display_name": "Python 3",
   "language": "python",
   "name": "python3"
  },
  "language_info": {
   "codemirror_mode": {
    "name": "ipython",
    "version": 3
   },
   "file_extension": ".py",
   "mimetype": "text/x-python",
   "name": "python",
   "nbconvert_exporter": "python",
   "pygments_lexer": "ipython3",
   "version": "3.6.6"
  }
 },
 "nbformat": 4,
 "nbformat_minor": 2
}
