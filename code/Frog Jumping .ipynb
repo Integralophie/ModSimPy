{
 "cells": [
  {
   "cell_type": "code",
   "execution_count": 10,
   "metadata": {},
   "outputs": [],
   "source": [
    "# Configure Jupyter so figures appear in the notebook\n",
    "%matplotlib inline\n",
    "\n",
    "# Configure Jupyter to display the assigned value after an assignment\n",
    "%config InteractiveShell.ast_node_interactivity='last_expr_or_assign'\n",
    "\n",
    "# import functions from the modsim.py module\n",
    "from modsim import *"
   ]
  },
  {
   "cell_type": "code",
   "execution_count": 11,
   "metadata": {},
   "outputs": [
    {
     "data": {
      "text/html": [
       "meter"
      ],
      "text/latex": [
       "$meter$"
      ],
      "text/plain": [
       "<Unit('meter')>"
      ]
     },
     "execution_count": 11,
     "metadata": {},
     "output_type": "execute_result"
    }
   ],
   "source": [
    "# import units needed in the model\n",
    "s = UNITS.second\n",
    "N = UNITS.newton\n",
    "kg = UNITS.kilogram\n",
    "m = UNITS.meter\n"
   ]
  },
  {
   "cell_type": "code",
   "execution_count": 82,
   "metadata": {},
   "outputs": [
    {
     "data": {
      "text/html": [
       "<div>\n",
       "<style scoped>\n",
       "    .dataframe tbody tr th:only-of-type {\n",
       "        vertical-align: middle;\n",
       "    }\n",
       "\n",
       "    .dataframe tbody tr th {\n",
       "        vertical-align: top;\n",
       "    }\n",
       "\n",
       "    .dataframe thead th {\n",
       "        text-align: right;\n",
       "    }\n",
       "</style>\n",
       "<table border=\"1\" class=\"dataframe\">\n",
       "  <thead>\n",
       "    <tr style=\"text-align: right;\">\n",
       "      <th></th>\n",
       "      <th>values</th>\n",
       "    </tr>\n",
       "  </thead>\n",
       "  <tbody>\n",
       "    <tr>\n",
       "      <th>g_a</th>\n",
       "      <td>-9.8 meter / second ** 2</td>\n",
       "    </tr>\n",
       "    <tr>\n",
       "      <th>v_init</th>\n",
       "      <td>10.0 meter / second</td>\n",
       "    </tr>\n",
       "    <tr>\n",
       "      <th>y_init</th>\n",
       "      <td>0.1 meter</td>\n",
       "    </tr>\n",
       "    <tr>\n",
       "      <th>m_frog</th>\n",
       "      <td>0.1 kilogram</td>\n",
       "    </tr>\n",
       "    <tr>\n",
       "      <th>r_lilypad</th>\n",
       "      <td>0.1 meter</td>\n",
       "    </tr>\n",
       "    <tr>\n",
       "      <th>ρ</th>\n",
       "      <td>1000.0 kilogram / meter ** 3</td>\n",
       "    </tr>\n",
       "    <tr>\n",
       "      <th>t_0</th>\n",
       "      <td>0 second</td>\n",
       "    </tr>\n",
       "    <tr>\n",
       "      <th>t_end</th>\n",
       "      <td>300 second</td>\n",
       "    </tr>\n",
       "  </tbody>\n",
       "</table>\n",
       "</div>"
      ],
      "text/plain": [
       "g_a              -9.8 meter / second ** 2\n",
       "v_init                10.0 meter / second\n",
       "y_init                          0.1 meter\n",
       "m_frog                       0.1 kilogram\n",
       "r_lilypad                       0.1 meter\n",
       "ρ            1000.0 kilogram / meter ** 3\n",
       "t_0                              0 second\n",
       "t_end                          300 second\n",
       "dtype: object"
      ]
     },
     "execution_count": 82,
     "metadata": {},
     "output_type": "execute_result"
    }
   ],
   "source": [
    "params = Params( \n",
    "                g_a = - 9.8 * m / s **2,    # gravitational acceleration\n",
    "                v_init = 10 * m / s,       # initial velocity\n",
    "                y_init = 0.1 * m,            # initial position\n",
    "                m_frog = 0.1 * kg,        # mass of the frog\n",
    "                r_lilypad = 0.1 * m,      # radius of lilypad\n",
    "                ρ = 1e3 * kg / m**3,      # density of water \n",
    "                t_0 = 0 * s,\n",
    "                t_end = 300 * s)"
   ]
  },
  {
   "cell_type": "code",
   "execution_count": 83,
   "metadata": {},
   "outputs": [],
   "source": [
    "def make_system(params):\n",
    "    \n",
    "    unpack(params)\n",
    "    \n",
    "    area = np.pi * (r_lilypad)**2\n",
    "    init = State(y=y_init, v=v_init)\n",
    "    t_0 = 0 * s\n",
    "    t_end = 30 * s\n",
    "    \n",
    "    return System(params, area = area, init = init)"
   ]
  },
  {
   "cell_type": "code",
   "execution_count": 84,
   "metadata": {},
   "outputs": [
    {
     "data": {
      "text/html": [
       "<div>\n",
       "<style scoped>\n",
       "    .dataframe tbody tr th:only-of-type {\n",
       "        vertical-align: middle;\n",
       "    }\n",
       "\n",
       "    .dataframe tbody tr th {\n",
       "        vertical-align: top;\n",
       "    }\n",
       "\n",
       "    .dataframe thead th {\n",
       "        text-align: right;\n",
       "    }\n",
       "</style>\n",
       "<table border=\"1\" class=\"dataframe\">\n",
       "  <thead>\n",
       "    <tr style=\"text-align: right;\">\n",
       "      <th></th>\n",
       "      <th>values</th>\n",
       "    </tr>\n",
       "  </thead>\n",
       "  <tbody>\n",
       "    <tr>\n",
       "      <th>g_a</th>\n",
       "      <td>-9.8 meter / second ** 2</td>\n",
       "    </tr>\n",
       "    <tr>\n",
       "      <th>v_init</th>\n",
       "      <td>10.0 meter / second</td>\n",
       "    </tr>\n",
       "    <tr>\n",
       "      <th>y_init</th>\n",
       "      <td>0.1 meter</td>\n",
       "    </tr>\n",
       "    <tr>\n",
       "      <th>m_frog</th>\n",
       "      <td>0.1 kilogram</td>\n",
       "    </tr>\n",
       "    <tr>\n",
       "      <th>r_lilypad</th>\n",
       "      <td>0.1 meter</td>\n",
       "    </tr>\n",
       "    <tr>\n",
       "      <th>ρ</th>\n",
       "      <td>1000.0 kilogram / meter ** 3</td>\n",
       "    </tr>\n",
       "    <tr>\n",
       "      <th>t_0</th>\n",
       "      <td>0 second</td>\n",
       "    </tr>\n",
       "    <tr>\n",
       "      <th>t_end</th>\n",
       "      <td>300 second</td>\n",
       "    </tr>\n",
       "    <tr>\n",
       "      <th>area</th>\n",
       "      <td>0.031415926535897934 meter ** 2</td>\n",
       "    </tr>\n",
       "    <tr>\n",
       "      <th>init</th>\n",
       "      <td>y              0.1 meter\n",
       "v    10.0 meter / sec...</td>\n",
       "    </tr>\n",
       "  </tbody>\n",
       "</table>\n",
       "</div>"
      ],
      "text/plain": [
       "g_a                                   -9.8 meter / second ** 2\n",
       "v_init                                     10.0 meter / second\n",
       "y_init                                               0.1 meter\n",
       "m_frog                                            0.1 kilogram\n",
       "r_lilypad                                            0.1 meter\n",
       "ρ                                 1000.0 kilogram / meter ** 3\n",
       "t_0                                                   0 second\n",
       "t_end                                               300 second\n",
       "area                           0.031415926535897934 meter ** 2\n",
       "init         y              0.1 meter\n",
       "v    10.0 meter / sec...\n",
       "dtype: object"
      ]
     },
     "execution_count": 84,
     "metadata": {},
     "output_type": "execute_result"
    }
   ],
   "source": [
    "system = make_system(params)\n"
   ]
  },
  {
   "cell_type": "code",
   "execution_count": 85,
   "metadata": {},
   "outputs": [],
   "source": [
    "def slope_func(state, t, system):\n",
    "\n",
    "    y, v = state\n",
    "    unpack(system)\n",
    "    \n",
    "    #sqrt(2 * g_a * y)- g_a * (t*s) \n",
    "    dydt = v                              #velocity at certain point\n",
    "    dvdt = g_a                            #acceleration due to gravity \n",
    "    \n",
    "    return dydt, dvdt"
   ]
  },
  {
   "cell_type": "code",
   "execution_count": 86,
   "metadata": {},
   "outputs": [
    {
     "data": {
      "text/plain": [
       "(<Quantity(10.0, 'meter / second')>, <Quantity(-9.8, 'meter / second ** 2')>)"
      ]
     },
     "execution_count": 86,
     "metadata": {},
     "output_type": "execute_result"
    }
   ],
   "source": [
    "slope_func(system.init, 0, system)"
   ]
  },
  {
   "cell_type": "code",
   "execution_count": 87,
   "metadata": {},
   "outputs": [],
   "source": [
    "def event_func(state, t, system):\n",
    "    \"\"\"Return the height of the penny above the sidewalk.\n",
    "    \"\"\"\n",
    "    y, v = state\n",
    "    return y"
   ]
  },
  {
   "cell_type": "code",
   "execution_count": 90,
   "metadata": {},
   "outputs": [
    {
     "data": {
      "text/html": [
       "<div>\n",
       "<style scoped>\n",
       "    .dataframe tbody tr th:only-of-type {\n",
       "        vertical-align: middle;\n",
       "    }\n",
       "\n",
       "    .dataframe tbody tr th {\n",
       "        vertical-align: top;\n",
       "    }\n",
       "\n",
       "    .dataframe thead th {\n",
       "        text-align: right;\n",
       "    }\n",
       "</style>\n",
       "<table border=\"1\" class=\"dataframe\">\n",
       "  <thead>\n",
       "    <tr style=\"text-align: right;\">\n",
       "      <th></th>\n",
       "      <th>y</th>\n",
       "      <th>v</th>\n",
       "    </tr>\n",
       "  </thead>\n",
       "  <tbody>\n",
       "    <tr>\n",
       "      <th>0.000000</th>\n",
       "      <td>1.000000e-01</td>\n",
       "      <td>10.000000</td>\n",
       "    </tr>\n",
       "    <tr>\n",
       "      <th>0.014212</th>\n",
       "      <td>2.411264e-01</td>\n",
       "      <td>9.860726</td>\n",
       "    </tr>\n",
       "    <tr>\n",
       "      <th>0.114212</th>\n",
       "      <td>1.178199e+00</td>\n",
       "      <td>8.880726</td>\n",
       "    </tr>\n",
       "    <tr>\n",
       "      <th>0.214212</th>\n",
       "      <td>2.017272e+00</td>\n",
       "      <td>7.900726</td>\n",
       "    </tr>\n",
       "    <tr>\n",
       "      <th>0.314212</th>\n",
       "      <td>2.758344e+00</td>\n",
       "      <td>6.920726</td>\n",
       "    </tr>\n",
       "    <tr>\n",
       "      <th>0.414212</th>\n",
       "      <td>3.401417e+00</td>\n",
       "      <td>5.940726</td>\n",
       "    </tr>\n",
       "    <tr>\n",
       "      <th>0.514212</th>\n",
       "      <td>3.946490e+00</td>\n",
       "      <td>4.960726</td>\n",
       "    </tr>\n",
       "    <tr>\n",
       "      <th>0.614212</th>\n",
       "      <td>4.393562e+00</td>\n",
       "      <td>3.980726</td>\n",
       "    </tr>\n",
       "    <tr>\n",
       "      <th>0.714212</th>\n",
       "      <td>4.742635e+00</td>\n",
       "      <td>3.000726</td>\n",
       "    </tr>\n",
       "    <tr>\n",
       "      <th>0.814212</th>\n",
       "      <td>4.993707e+00</td>\n",
       "      <td>2.020726</td>\n",
       "    </tr>\n",
       "    <tr>\n",
       "      <th>0.914212</th>\n",
       "      <td>5.146780e+00</td>\n",
       "      <td>1.040726</td>\n",
       "    </tr>\n",
       "    <tr>\n",
       "      <th>1.014212</th>\n",
       "      <td>5.201853e+00</td>\n",
       "      <td>0.060726</td>\n",
       "    </tr>\n",
       "    <tr>\n",
       "      <th>1.114212</th>\n",
       "      <td>5.158925e+00</td>\n",
       "      <td>-0.919274</td>\n",
       "    </tr>\n",
       "    <tr>\n",
       "      <th>1.214212</th>\n",
       "      <td>5.017998e+00</td>\n",
       "      <td>-1.899274</td>\n",
       "    </tr>\n",
       "    <tr>\n",
       "      <th>1.314212</th>\n",
       "      <td>4.779071e+00</td>\n",
       "      <td>-2.879274</td>\n",
       "    </tr>\n",
       "    <tr>\n",
       "      <th>1.414212</th>\n",
       "      <td>4.442143e+00</td>\n",
       "      <td>-3.859274</td>\n",
       "    </tr>\n",
       "    <tr>\n",
       "      <th>1.514212</th>\n",
       "      <td>4.007216e+00</td>\n",
       "      <td>-4.839274</td>\n",
       "    </tr>\n",
       "    <tr>\n",
       "      <th>1.614212</th>\n",
       "      <td>3.474288e+00</td>\n",
       "      <td>-5.819274</td>\n",
       "    </tr>\n",
       "    <tr>\n",
       "      <th>1.714212</th>\n",
       "      <td>2.843361e+00</td>\n",
       "      <td>-6.799274</td>\n",
       "    </tr>\n",
       "    <tr>\n",
       "      <th>1.814212</th>\n",
       "      <td>2.114434e+00</td>\n",
       "      <td>-7.779274</td>\n",
       "    </tr>\n",
       "    <tr>\n",
       "      <th>1.914212</th>\n",
       "      <td>1.287506e+00</td>\n",
       "      <td>-8.759274</td>\n",
       "    </tr>\n",
       "    <tr>\n",
       "      <th>2.014212</th>\n",
       "      <td>3.625789e-01</td>\n",
       "      <td>-9.739274</td>\n",
       "    </tr>\n",
       "    <tr>\n",
       "      <th>2.050768</th>\n",
       "      <td>3.608225e-15</td>\n",
       "      <td>-10.097524</td>\n",
       "    </tr>\n",
       "  </tbody>\n",
       "</table>\n",
       "</div>"
      ],
      "text/plain": [
       "                     y          v\n",
       "0.000000  1.000000e-01  10.000000\n",
       "0.014212  2.411264e-01   9.860726\n",
       "0.114212  1.178199e+00   8.880726\n",
       "0.214212  2.017272e+00   7.900726\n",
       "0.314212  2.758344e+00   6.920726\n",
       "0.414212  3.401417e+00   5.940726\n",
       "0.514212  3.946490e+00   4.960726\n",
       "0.614212  4.393562e+00   3.980726\n",
       "0.714212  4.742635e+00   3.000726\n",
       "0.814212  4.993707e+00   2.020726\n",
       "0.914212  5.146780e+00   1.040726\n",
       "1.014212  5.201853e+00   0.060726\n",
       "1.114212  5.158925e+00  -0.919274\n",
       "1.214212  5.017998e+00  -1.899274\n",
       "1.314212  4.779071e+00  -2.879274\n",
       "1.414212  4.442143e+00  -3.859274\n",
       "1.514212  4.007216e+00  -4.839274\n",
       "1.614212  3.474288e+00  -5.819274\n",
       "1.714212  2.843361e+00  -6.799274\n",
       "1.814212  2.114434e+00  -7.779274\n",
       "1.914212  1.287506e+00  -8.759274\n",
       "2.014212  3.625789e-01  -9.739274\n",
       "2.050768  3.608225e-15 -10.097524"
      ]
     },
     "execution_count": 90,
     "metadata": {},
     "output_type": "execute_result"
    }
   ],
   "source": [
    "results, details = run_ode_solver(system, slope_func, events=event_func, max_step=0.1*s)\n",
    "details.message\n",
    "results"
   ]
  },
  {
   "cell_type": "code",
   "execution_count": 91,
   "metadata": {},
   "outputs": [
    {
     "name": "stdout",
     "output_type": "stream",
     "text": [
      "Saving figure to file figs/chap09-fig02.pdf\n"
     ]
    },
    {
     "data": {
      "image/png": "[encoded data removed]",
      "text/plain": [
       "<Figure size 432x288 with 1 Axes>"
      ]
     },
     "metadata": {},
     "output_type": "display_data"
    }
   ],
   "source": [
    "def plot_position(results):\n",
    "    plot(results.y)\n",
    "    decorate(xlabel='Time (s)',\n",
    "             ylabel='Position (m)')\n",
    "    \n",
    "plot_position(results)\n",
    "savefig('figs/chap09-fig02.pdf')"
   ]
  },
  {
   "cell_type": "code",
   "execution_count": null,
   "metadata": {},
   "outputs": [],
   "source": [
    "# set up initial values\n",
    "\n",
    "v = Vector(0, 0) * m / s       # velocity vector of the frog\n",
    "p_frog = Vector(0, 0) * m      # position vector of the frog\n",
    "p_lily = Vector(0, 0) * m      # position vector of the lilypad\n",
    "\n",
    "# By setting uo initial velocity manually, a certain maximum height is determined\n",
    "# We can sweep through a series of initial velocity\n",
    "\n"
   ]
  },
  {
   "cell_type": "code",
   "execution_count": null,
   "metadata": {},
   "outputs": [],
   "source": [
    "# set up system values\n",
    "\n",
    "# the frog is treated as point mass\n",
    "\n",
    "\n",
    "\n",
    "def make_system(params):\n",
    "\n",
    "    unpack(params)\n",
    "    \n",
    "    # convert angle to degrees\n",
    "    theta = np.deg2rad(angle)\n",
    "    \n",
    "    # compute x and y components of velocity\n",
    "    vx, vy = pol2cart(theta, velocity)\n",
    "    \n",
    "    # make the initial state\n",
    "    init = State(x_frog = p_frog.x,\n",
    "                 y_frog = p_frog.y,\n",
    "                 x_lily = p_lily.x,\n",
    "                 y_lily = p_lily.y,\n",
    "                 vx = v.x,\n",
    "                 vy = v.y)\n",
    "    \n",
    "    # compute area from radius\n",
    "    area = np.pi * r **2\n",
    "    \n",
    "    return System(params, init=init, area=area)"
   ]
  },
  {
   "cell_type": "code",
   "execution_count": null,
   "metadata": {},
   "outputs": [],
   "source": []
  },
  {
   "cell_type": "markdown",
   "metadata": {},
   "source": [
    "I think we can model the lilypad as a sphere and apply the equation of spherical object submerged in water. Thus, if the volumn in water is greater than a certain value that water starts to leak in the lilypad, we know that the lilypad will sink. "
   ]
  },
  {
   "cell_type": "code",
   "execution_count": null,
   "metadata": {},
   "outputs": [],
   "source": [
    "def slope_func(state, t, system):\n",
    "    \"\"\"Computes derivatives of the state variables.\n",
    "    \n",
    "    state: State (x, y, x velocity, y velocity)\n",
    "    t: time\n",
    "    system: System object with g, rho, C_d, area, mass\n",
    "    \n",
    "    returns: sequence (vx, vy, ax, ay)\n",
    "    \"\"\"\n",
    "    x_frog, y_frog, vx, vy = state\n",
    "    unpack(system)\n",
    "\n",
    "    V = Vector(vx, vy)    \n",
    "    o_frog = Vector(x_frog, y_frog)\n",
    "    o_lily = Vector(x_lily, y_lily)\n",
    "\n",
    "    \n",
    "    return vx, vy, "
   ]
  }
 ],
 "metadata": {
  "kernelspec": {
   "display_name": "Python 3",
   "language": "python",
   "name": "python3"
  },
  "language_info": {
   "codemirror_mode": {
    "name": "ipython",
    "version": 3
   },
   "file_extension": ".py",
   "mimetype": "text/x-python",
   "name": "python",
   "nbconvert_exporter": "python",
   "pygments_lexer": "ipython3",
   "version": "3.6.6"
  }
 },
 "nbformat": 4,
 "nbformat_minor": 2
}
