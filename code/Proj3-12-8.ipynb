{
 "cells": [
  {
   "cell_type": "markdown",
   "metadata": {},
   "source": [
    "# Project 3: Second-Order Systems"
   ]
  },
  {
   "cell_type": "markdown",
   "metadata": {},
   "source": [
    "Sophie Wu and Becca Suchower"
   ]
  },
  {
   "cell_type": "markdown",
   "metadata": {},
   "source": [
    "# Question: When a frog jumps off of a lilypad at a certain height, what is the minimum surface area of the lilypad so it does not submerge?"
   ]
  },
  {
   "cell_type": "markdown",
   "metadata": {},
   "source": [
    "<img src=\"diagrams/force_graph.png\" width=300 height=300> \n",
    "      \n",
    "<img src=\"diagrams/force_graph_spline.png\" width=300 height=300>"
   ]
  },
  {
   "cell_type": "markdown",
   "metadata": {},
   "source": [
    "Source: https://pdfs.semanticscholar.org/3c26/3adf9dec3a122deb6d43492ba7b09cc5ac7e.pdf "
   ]
  },
  {
   "cell_type": "markdown",
   "metadata": {},
   "source": [
    "When researching frog jump studies, we found the above graph that shows force vs time for three different massed frogs.  In our model, we assumed the frog was point mass of 12.8 grams, as shown in the middle line of the above graph.  We also used the value of time associated with that frog, 80 ms, for the time that the frog is in contact with the lilypad.  The frog in the study was a striped marsh frog, which usually reaches about 70 mm in body length, meaning that the leg length would be about the same.  Finally, we assumed the lilypad was 1 cm tall above surface of water, and force was applied constantly to the lilypad."
   ]
  },
  {
   "cell_type": "markdown",
   "metadata": {},
   "source": [
    "# Model"
   ]
  },
  {
   "cell_type": "code",
   "execution_count": 1,
   "metadata": {},
   "outputs": [],
   "source": [
    "# Configure Jupyter so figures appear in the notebook\n",
    "%matplotlib inline\n",
    "\n",
    "# Configure Jupyter to display the assigned value after an assignment\n",
    "%config InteractiveShell.ast_node_interactivity='last_expr_or_assign'\n",
    "\n",
    "# import functions from the modsim.py module\n",
    "from modsim import *\n",
    "import scipy \n",
    "from numpy import sqrt, sin, cos, pi\n",
    "import matplotlib.pyplot as plt\n",
    "import numpy as np\n"
   ]
  },
  {
   "cell_type": "code",
   "execution_count": 2,
   "metadata": {},
   "outputs": [
    {
     "data": {
      "text/html": [
       "degree"
      ],
      "text/latex": [
       "$degree$"
      ],
      "text/plain": [
       "<Unit('degree')>"
      ]
     },
     "execution_count": 2,
     "metadata": {},
     "output_type": "execute_result"
    }
   ],
   "source": [
    "# import units needed in the model\n",
    "s = UNITS.second\n",
    "N = UNITS.newton\n",
    "kg = UNITS.kilogram\n",
    "m = UNITS.meter\n",
    "degree = UNITS.degree"
   ]
  },
  {
   "cell_type": "code",
   "execution_count": 3,
   "metadata": {},
   "outputs": [
    {
     "data": {
      "text/html": [
       "<div>\n",
       "<style scoped>\n",
       "    .dataframe tbody tr th:only-of-type {\n",
       "        vertical-align: middle;\n",
       "    }\n",
       "\n",
       "    .dataframe tbody tr th {\n",
       "        vertical-align: top;\n",
       "    }\n",
       "\n",
       "    .dataframe thead th {\n",
       "        text-align: right;\n",
       "    }\n",
       "</style>\n",
       "<table border=\"1\" class=\"dataframe\">\n",
       "  <thead>\n",
       "    <tr style=\"text-align: right;\">\n",
       "      <th></th>\n",
       "      <th>values</th>\n",
       "    </tr>\n",
       "  </thead>\n",
       "  <tbody>\n",
       "    <tr>\n",
       "      <th>g_a</th>\n",
       "      <td>-9.8 meter / second ** 2</td>\n",
       "    </tr>\n",
       "    <tr>\n",
       "      <th>height</th>\n",
       "      <td>1 meter</td>\n",
       "    </tr>\n",
       "    <tr>\n",
       "      <th>y_init</th>\n",
       "      <td>0.01 meter</td>\n",
       "    </tr>\n",
       "    <tr>\n",
       "      <th>m_frog</th>\n",
       "      <td>0.0128 kilogram</td>\n",
       "    </tr>\n",
       "    <tr>\n",
       "      <th>r_lilypad</th>\n",
       "      <td>0.1 meter</td>\n",
       "    </tr>\n",
       "    <tr>\n",
       "      <th>ρ</th>\n",
       "      <td>997.0 kilogram / meter ** 3</td>\n",
       "    </tr>\n",
       "    <tr>\n",
       "      <th>t_end</th>\n",
       "      <td>300 second</td>\n",
       "    </tr>\n",
       "    <tr>\n",
       "      <th>force</th>\n",
       "      <td>5 newton</td>\n",
       "    </tr>\n",
       "    <tr>\n",
       "      <th>leg_length</th>\n",
       "      <td>0.07 meter</td>\n",
       "    </tr>\n",
       "  </tbody>\n",
       "</table>\n",
       "</div>"
      ],
      "text/plain": [
       "g_a              -9.8 meter / second ** 2\n",
       "height                            1 meter\n",
       "y_init                         0.01 meter\n",
       "m_frog                    0.0128 kilogram\n",
       "r_lilypad                       0.1 meter\n",
       "ρ             997.0 kilogram / meter ** 3\n",
       "t_end                          300 second\n",
       "force                            5 newton\n",
       "leg_length                     0.07 meter\n",
       "dtype: object"
      ]
     },
     "execution_count": 3,
     "metadata": {},
     "output_type": "execute_result"
    }
   ],
   "source": [
    "params = Params( \n",
    "                g_a = - 9.8 * m / s **2,   # gravitational acceleration\n",
    "                height = 1 * m,            # height of the frog jump\n",
    "                y_init = 0.01 * m,         # initial position, the height of the lilypad\n",
    "                m_frog = 0.0128 * kg,      # mass of the frog, from the paper\n",
    "                r_lilypad = 0.1 * m,       # radius of lilypad\n",
    "                ρ = 997 * kg / m**3,       # density of water \n",
    "                #t_mid = 0.08 * s,          # the short time the frog applies force to the lilypad\n",
    "                t_end = 300 * s,           # initializing t_end for ode solver\n",
    "                force = 5 * N,             # initializing force\n",
    "                leg_length = 0.07 * m       # length of frog legs\n",
    "                )"
   ]
  },
  {
   "cell_type": "markdown",
   "metadata": {},
   "source": [
    "Calculating the volume of the lilypad/displaced water below and returning it to the system, calculating height and velocity at t_mid"
   ]
  },
  {
   "cell_type": "code",
   "execution_count": 4,
   "metadata": {},
   "outputs": [],
   "source": [
    "def make_system(params):\n",
    "    \n",
    "    unpack(params)\n",
    "    \n",
    "    #setting value of t_mid to be based on force applied\n",
    "    t_mid = ((2*leg_length)/(g_a + (force/m_frog)))**0.5\n",
    "    \n",
    "    # height and velocity at t_mid\n",
    "    y_pos = y_init + (1/2)*(g_a + force/m_frog)*(t_mid**2)\n",
    "    v_pos =(g_a + force/m_frog)*(t_mid)\n",
    "    \n",
    "    \n",
    "    area = np.pi * (r_lilypad)**2\n",
    "    volume = area * y_init             # volume of lilypad / displaced water\n",
    "    \n",
    "    init = State(y=y_pos, v=v_pos)\n",
    "    \n",
    "    #for debugging purposes\n",
    "    #print(force)\n",
    "    #print(y_pos)\n",
    "    #print(v_pos)\n",
    "    \n",
    "    return System(params, volume = volume, init = init, y_pos = y_pos, v_pos = v_pos, t_mid = t_mid, area = area)"
   ]
  },
  {
   "cell_type": "code",
   "execution_count": 5,
   "metadata": {},
   "outputs": [
    {
     "data": {
      "text/html": [
       "<div>\n",
       "<style scoped>\n",
       "    .dataframe tbody tr th:only-of-type {\n",
       "        vertical-align: middle;\n",
       "    }\n",
       "\n",
       "    .dataframe tbody tr th {\n",
       "        vertical-align: top;\n",
       "    }\n",
       "\n",
       "    .dataframe thead th {\n",
       "        text-align: right;\n",
       "    }\n",
       "</style>\n",
       "<table border=\"1\" class=\"dataframe\">\n",
       "  <thead>\n",
       "    <tr style=\"text-align: right;\">\n",
       "      <th></th>\n",
       "      <th>values</th>\n",
       "    </tr>\n",
       "  </thead>\n",
       "  <tbody>\n",
       "    <tr>\n",
       "      <th>g_a</th>\n",
       "      <td>-9.8 meter / second ** 2</td>\n",
       "    </tr>\n",
       "    <tr>\n",
       "      <th>height</th>\n",
       "      <td>1 meter</td>\n",
       "    </tr>\n",
       "    <tr>\n",
       "      <th>y_init</th>\n",
       "      <td>0.01 meter</td>\n",
       "    </tr>\n",
       "    <tr>\n",
       "      <th>m_frog</th>\n",
       "      <td>0.0128 kilogram</td>\n",
       "    </tr>\n",
       "    <tr>\n",
       "      <th>r_lilypad</th>\n",
       "      <td>0.1 meter</td>\n",
       "    </tr>\n",
       "    <tr>\n",
       "      <th>ρ</th>\n",
       "      <td>997.0 kilogram / meter ** 3</td>\n",
       "    </tr>\n",
       "    <tr>\n",
       "      <th>t_end</th>\n",
       "      <td>300 second</td>\n",
       "    </tr>\n",
       "    <tr>\n",
       "      <th>force</th>\n",
       "      <td>5 newton</td>\n",
       "    </tr>\n",
       "    <tr>\n",
       "      <th>leg_length</th>\n",
       "      <td>0.07 meter</td>\n",
       "    </tr>\n",
       "    <tr>\n",
       "      <th>volume</th>\n",
       "      <td>0.00031415926535897936 meter ** 3</td>\n",
       "    </tr>\n",
       "    <tr>\n",
       "      <th>init</th>\n",
       "      <td>y            0.08000000000000002 meter\n",
       "v    7....</td>\n",
       "    </tr>\n",
       "    <tr>\n",
       "      <th>y_pos</th>\n",
       "      <td>0.08000000000000002 meter</td>\n",
       "    </tr>\n",
       "    <tr>\n",
       "      <th>v_pos</th>\n",
       "      <td>7.3017463664523445 meter / second</td>\n",
       "    </tr>\n",
       "    <tr>\n",
       "      <th>t_mid</th>\n",
       "      <td>0.019173495349444875 second</td>\n",
       "    </tr>\n",
       "    <tr>\n",
       "      <th>area</th>\n",
       "      <td>0.031415926535897934 meter ** 2</td>\n",
       "    </tr>\n",
       "  </tbody>\n",
       "</table>\n",
       "</div>"
      ],
      "text/plain": [
       "g_a                                    -9.8 meter / second ** 2\n",
       "height                                                  1 meter\n",
       "y_init                                               0.01 meter\n",
       "m_frog                                          0.0128 kilogram\n",
       "r_lilypad                                             0.1 meter\n",
       "ρ                                   997.0 kilogram / meter ** 3\n",
       "t_end                                                300 second\n",
       "force                                                  5 newton\n",
       "leg_length                                           0.07 meter\n",
       "volume                        0.00031415926535897936 meter ** 3\n",
       "init          y            0.08000000000000002 meter\n",
       "v    7....\n",
       "y_pos                                 0.08000000000000002 meter\n",
       "v_pos                         7.3017463664523445 meter / second\n",
       "t_mid                               0.019173495349444875 second\n",
       "area                            0.031415926535897934 meter ** 2\n",
       "dtype: object"
      ]
     },
     "execution_count": 5,
     "metadata": {},
     "output_type": "execute_result"
    }
   ],
   "source": [
    "system = make_system(params)\n"
   ]
  },
  {
   "cell_type": "markdown",
   "metadata": {},
   "source": [
    "### Frog Jumping Vertically"
   ]
  },
  {
   "cell_type": "code",
   "execution_count": 6,
   "metadata": {},
   "outputs": [],
   "source": [
    "def slope_func(state, t, system):\n",
    "\n",
    "    y, v = state\n",
    "    unpack(system)\n",
    "    \n",
    "    dydt = v                              #velocity at certain point\n",
    "    dvdt = g_a                            #acceleration due to gravity \n",
    "    \n",
    "    return dydt, dvdt"
   ]
  },
  {
   "cell_type": "code",
   "execution_count": 7,
   "metadata": {},
   "outputs": [
    {
     "data": {
      "text/plain": [
       "(<Quantity(7.3017463664523445, 'meter / second')>,\n",
       " <Quantity(-9.8, 'meter / second ** 2')>)"
      ]
     },
     "execution_count": 7,
     "metadata": {},
     "output_type": "execute_result"
    }
   ],
   "source": [
    "slope_func(system.init, 0, system)"
   ]
  },
  {
   "cell_type": "code",
   "execution_count": 8,
   "metadata": {},
   "outputs": [],
   "source": [
    "def event_func(state, t, system):\n",
    "    y, v = state\n",
    "    return y"
   ]
  },
  {
   "cell_type": "code",
   "execution_count": 9,
   "metadata": {},
   "outputs": [
    {
     "data": {
      "text/html": [
       "<div>\n",
       "<style scoped>\n",
       "    .dataframe tbody tr th:only-of-type {\n",
       "        vertical-align: middle;\n",
       "    }\n",
       "\n",
       "    .dataframe tbody tr th {\n",
       "        vertical-align: top;\n",
       "    }\n",
       "\n",
       "    .dataframe thead th {\n",
       "        text-align: right;\n",
       "    }\n",
       "</style>\n",
       "<table border=\"1\" class=\"dataframe\">\n",
       "  <thead>\n",
       "    <tr style=\"text-align: right;\">\n",
       "      <th></th>\n",
       "      <th>y</th>\n",
       "      <th>v</th>\n",
       "    </tr>\n",
       "  </thead>\n",
       "  <tbody>\n",
       "    <tr>\n",
       "      <th>0.000000</th>\n",
       "      <td>8.000000e-02</td>\n",
       "      <td>7.301746</td>\n",
       "    </tr>\n",
       "    <tr>\n",
       "      <th>0.015589</th>\n",
       "      <td>1.926351e-01</td>\n",
       "      <td>7.148976</td>\n",
       "    </tr>\n",
       "    <tr>\n",
       "      <th>0.115589</th>\n",
       "      <td>8.585327e-01</td>\n",
       "      <td>6.168976</td>\n",
       "    </tr>\n",
       "    <tr>\n",
       "      <th>0.215589</th>\n",
       "      <td>1.426430e+00</td>\n",
       "      <td>5.188976</td>\n",
       "    </tr>\n",
       "    <tr>\n",
       "      <th>0.315589</th>\n",
       "      <td>1.896328e+00</td>\n",
       "      <td>4.208976</td>\n",
       "    </tr>\n",
       "    <tr>\n",
       "      <th>0.415589</th>\n",
       "      <td>2.268225e+00</td>\n",
       "      <td>3.228976</td>\n",
       "    </tr>\n",
       "    <tr>\n",
       "      <th>0.515589</th>\n",
       "      <td>2.542123e+00</td>\n",
       "      <td>2.248976</td>\n",
       "    </tr>\n",
       "    <tr>\n",
       "      <th>0.615589</th>\n",
       "      <td>2.718020e+00</td>\n",
       "      <td>1.268976</td>\n",
       "    </tr>\n",
       "    <tr>\n",
       "      <th>0.715589</th>\n",
       "      <td>2.795918e+00</td>\n",
       "      <td>0.288976</td>\n",
       "    </tr>\n",
       "    <tr>\n",
       "      <th>0.815589</th>\n",
       "      <td>2.775816e+00</td>\n",
       "      <td>-0.691024</td>\n",
       "    </tr>\n",
       "    <tr>\n",
       "      <th>0.915589</th>\n",
       "      <td>2.657713e+00</td>\n",
       "      <td>-1.671024</td>\n",
       "    </tr>\n",
       "    <tr>\n",
       "      <th>1.015589</th>\n",
       "      <td>2.441611e+00</td>\n",
       "      <td>-2.651024</td>\n",
       "    </tr>\n",
       "    <tr>\n",
       "      <th>1.115589</th>\n",
       "      <td>2.127508e+00</td>\n",
       "      <td>-3.631024</td>\n",
       "    </tr>\n",
       "    <tr>\n",
       "      <th>1.215589</th>\n",
       "      <td>1.715406e+00</td>\n",
       "      <td>-4.611024</td>\n",
       "    </tr>\n",
       "    <tr>\n",
       "      <th>1.315589</th>\n",
       "      <td>1.205303e+00</td>\n",
       "      <td>-5.591024</td>\n",
       "    </tr>\n",
       "    <tr>\n",
       "      <th>1.415589</th>\n",
       "      <td>5.972009e-01</td>\n",
       "      <td>-6.571024</td>\n",
       "    </tr>\n",
       "    <tr>\n",
       "      <th>1.501029</th>\n",
       "      <td>-3.885781e-15</td>\n",
       "      <td>-7.408340</td>\n",
       "    </tr>\n",
       "  </tbody>\n",
       "</table>\n",
       "</div>"
      ],
      "text/plain": [
       "                     y         v\n",
       "0.000000  8.000000e-02  7.301746\n",
       "0.015589  1.926351e-01  7.148976\n",
       "0.115589  8.585327e-01  6.168976\n",
       "0.215589  1.426430e+00  5.188976\n",
       "0.315589  1.896328e+00  4.208976\n",
       "0.415589  2.268225e+00  3.228976\n",
       "0.515589  2.542123e+00  2.248976\n",
       "0.615589  2.718020e+00  1.268976\n",
       "0.715589  2.795918e+00  0.288976\n",
       "0.815589  2.775816e+00 -0.691024\n",
       "0.915589  2.657713e+00 -1.671024\n",
       "1.015589  2.441611e+00 -2.651024\n",
       "1.115589  2.127508e+00 -3.631024\n",
       "1.215589  1.715406e+00 -4.611024\n",
       "1.315589  1.205303e+00 -5.591024\n",
       "1.415589  5.972009e-01 -6.571024\n",
       "1.501029 -3.885781e-15 -7.408340"
      ]
     },
     "execution_count": 9,
     "metadata": {},
     "output_type": "execute_result"
    }
   ],
   "source": [
    "results, details = run_ode_solver(system, slope_func, events=event_func, max_step=0.1*s)\n",
    "details.message\n",
    "results"
   ]
  },
  {
   "cell_type": "code",
   "execution_count": 10,
   "metadata": {},
   "outputs": [
    {
     "name": "stdout",
     "output_type": "stream",
     "text": [
      "5 newton 2.7959180165640016\n"
     ]
    },
    {
     "data": {
      "image/png": "[encoded data removed]",
      "text/plain": [
       "<Figure size 432x288 with 1 Axes>"
      ]
     },
     "metadata": {},
     "output_type": "display_data"
    }
   ],
   "source": [
    "def plot_position(results):\n",
    "    plot(results.y)\n",
    "    decorate(title='Vertical Position of Frog Jump',\n",
    "             xlabel='Time (s)',\n",
    "             ylabel='Position (m)')\n",
    "    \n",
    "plot_position(results)\n",
    "\n",
    "max_height = results.y.max()\n",
    "\n",
    "print(force, max_height)"
   ]
  },
  {
   "cell_type": "code",
   "execution_count": 11,
   "metadata": {},
   "outputs": [],
   "source": [
    "def sweep_force(force_array, params):\n",
    "    sweep = SweepSeries()\n",
    "    \n",
    "    for force in force_array:\n",
    "        \n",
    "        system = make_system(Params(params, y_pos = y_pos, v_pos = v_pos, force = force))\n",
    "        \n",
    "        tpoints = linrange(0.1, 3, 0.1)\n",
    "        \n",
    "        results, details = run_ode_solver(system, slope_func, \n",
    "                                          events=event_func, \n",
    "                                          t_eval = tpoints, \n",
    "                                          max_step = 0.01 * s)\n",
    "        max_height = results.y.max()\n",
    "        sweep[force.magnitude] = max_height\n",
    "        \n",
    "    return sweep\n"
   ]
  },
  {
   "cell_type": "code",
   "execution_count": 12,
   "metadata": {},
   "outputs": [],
   "source": [
    "force_array = linspace(1, 10, 10) * N \n",
    "sweep = sweep_force(force_array, params);"
   ]
  },
  {
   "cell_type": "code",
   "execution_count": 13,
   "metadata": {},
   "outputs": [
    {
     "name": "stdout",
     "output_type": "stream",
     "text": [
      "1     0.566844\n",
      "2     1.119012\n",
      "3     1.680310\n",
      "4     2.235887\n",
      "5     2.790222\n",
      "6     3.356638\n",
      "7     3.915121\n",
      "8     4.463466\n",
      "9     5.032182\n",
      "10    5.582694\n",
      "dtype: float64\n"
     ]
    },
    {
     "data": {
      "image/png": "[encoded data removed]",
      "text/plain": [
       "<Figure size 432x288 with 1 Axes>"
      ]
     },
     "metadata": {},
     "output_type": "display_data"
    }
   ],
   "source": [
    "plot(sweep)\n",
    "print(sweep)\n",
    "\n",
    "decorate(title='Sweep of Force Applied vs Max Height',\n",
    "         xlabel='Force Applied (N)', \n",
    "         ylabel='Max Height (m)')"
   ]
  },
  {
   "cell_type": "markdown",
   "metadata": {},
   "source": [
    "When the force applied by the frog jumping is equal to the buoyant force due to the water, then we know the lilypad has been submerged in water."
   ]
  },
  {
   "cell_type": "code",
   "execution_count": 14,
   "metadata": {},
   "outputs": [
    {
     "name": "stdout",
     "output_type": "stream",
     "text": [
      "Force of\tMax\t        Buoyant\t   Result\tOld Lilypad\tNew Lilypad\n",
      "Frog (N)\tHeight (m)\tForce (N)\t   \tArea (sq.m) \tArea (sq.m)\n",
      "  1\t        0.567\t        3.070 \t   float\t0.031\t        0.031\n",
      "  2\t        1.119\t        3.070 \t   float\t0.031\t        0.031\n",
      "  3\t        1.680\t        3.070 \t   float\t0.031\t        0.031\n",
      "  4\t        2.236\t        3.070 \t   sink \t0.031\t        0.041\n",
      "  5\t        2.790\t        3.070 \t   sink \t0.031\t        0.051\n",
      "  6\t        3.357\t        3.070 \t   sink \t0.031\t        0.061\n",
      "  7\t        3.915\t        3.070 \t   sink \t0.031\t        0.072\n",
      "  8\t        4.463\t        3.070 \t   sink \t0.031\t        0.082\n",
      "  9\t        5.032\t        3.070 \t   sink \t0.031\t        0.092\n",
      "  10\t        5.583\t        3.070 \t   sink \t0.031\t        0.102\n"
     ]
    }
   ],
   "source": [
    "# motion of lilypad\n",
    "\n",
    "F_lily = - ρ * volume * g_a    # buoyant force\n",
    "   \n",
    "#print(\"Force of Frog (N)\\tMax Height (m)\\tBuoyant Force (N)\\tResult \\tOld Area (sq.m) \\tNew Area (sq.m)\")\n",
    "\n",
    "print(\"Force of\\tMax\\t        Buoyant\\t   Result\\tOld Lilypad\\tNew Lilypad\")\n",
    "print(\"Frog (N)\\tHeight (m)\\tForce (N)\\t   \\tArea (sq.m) \\tArea (sq.m)\")\n",
    "    \n",
    "for force in force_array:\n",
    "\n",
    "    F_frog = force\n",
    "\n",
    "    print(\"  %.0f\\t        %.3f\\t        %.3f\"%(force.magnitude,sweep[force.magnitude],F_lily.magnitude),end=\" \")\n",
    "    \n",
    "    #print('Max Height: ', sweep[force.magnitude])\n",
    "    #print('Force of Frog: ', F_frog)\n",
    "    #print('Buoyant Force: ', F_lily)\n",
    "\n",
    "    if F_frog >= F_lily: \n",
    "        new_area = (F_frog/(- ρ * y_init  * g_a))\n",
    "        \n",
    "        print(\"\\t   sink \\t%.3f\\t        %.3f\"%(system.area.magnitude,new_area.magnitude))\n",
    "        #print('Result: sink')\n",
    "        #print('Old Lilypad Area: ', system.area)\n",
    "        #print('New Lilypad Area: ', new_area)\n",
    "    else: \n",
    "        print(\"\\t   float\\t%.3f\\t        %.3f\"%(system.area.magnitude,system.area.magnitude))\n",
    "        #print(\"Result: float\")\n",
    "        #print('Old Lilypad Area: ', system.area)\n",
    "        #print('New Lilypad Area: ', system.area)\n"
   ]
  },
  {
   "cell_type": "markdown",
   "metadata": {},
   "source": [
    "From the table above, we can see that when the force exerted by the frog exceeds the buoyant force (which is between 3 and 4 Newton), the lilypad is going to sink. Thus, we know that the maximum height reached by the frog is 1.680 m. "
   ]
  },
  {
   "cell_type": "markdown",
   "metadata": {},
   "source": [
    "### Extending to 2-D motion "
   ]
  },
  {
   "cell_type": "code",
   "execution_count": 15,
   "metadata": {},
   "outputs": [
    {
     "data": {
      "text/html": [
       "<div>\n",
       "<style scoped>\n",
       "    .dataframe tbody tr th:only-of-type {\n",
       "        vertical-align: middle;\n",
       "    }\n",
       "\n",
       "    .dataframe tbody tr th {\n",
       "        vertical-align: top;\n",
       "    }\n",
       "\n",
       "    .dataframe thead th {\n",
       "        text-align: right;\n",
       "    }\n",
       "</style>\n",
       "<table border=\"1\" class=\"dataframe\">\n",
       "  <thead>\n",
       "    <tr style=\"text-align: right;\">\n",
       "      <th></th>\n",
       "      <th>values</th>\n",
       "    </tr>\n",
       "  </thead>\n",
       "  <tbody>\n",
       "    <tr>\n",
       "      <th>g_a</th>\n",
       "      <td>-9.8 meter / second ** 2</td>\n",
       "    </tr>\n",
       "    <tr>\n",
       "      <th>height</th>\n",
       "      <td>1 meter</td>\n",
       "    </tr>\n",
       "    <tr>\n",
       "      <th>y_init</th>\n",
       "      <td>0.01 meter</td>\n",
       "    </tr>\n",
       "    <tr>\n",
       "      <th>m_frog</th>\n",
       "      <td>0.0128 kilogram</td>\n",
       "    </tr>\n",
       "    <tr>\n",
       "      <th>r_lilypad</th>\n",
       "      <td>0.1 meter</td>\n",
       "    </tr>\n",
       "    <tr>\n",
       "      <th>ρ</th>\n",
       "      <td>997.0 kilogram / meter ** 3</td>\n",
       "    </tr>\n",
       "    <tr>\n",
       "      <th>t_end</th>\n",
       "      <td>300 second</td>\n",
       "    </tr>\n",
       "    <tr>\n",
       "      <th>force</th>\n",
       "      <td>5 newton</td>\n",
       "    </tr>\n",
       "    <tr>\n",
       "      <th>leg_length</th>\n",
       "      <td>0.07 meter</td>\n",
       "    </tr>\n",
       "    <tr>\n",
       "      <th>velocity</th>\n",
       "      <td>7.3017463664523445 meter / second</td>\n",
       "    </tr>\n",
       "    <tr>\n",
       "      <th>angle</th>\n",
       "      <td>45 degree</td>\n",
       "    </tr>\n",
       "    <tr>\n",
       "      <th>p_x</th>\n",
       "      <td>0.01 meter</td>\n",
       "    </tr>\n",
       "    <tr>\n",
       "      <th>p_y</th>\n",
       "      <td>0.01 meter</td>\n",
       "    </tr>\n",
       "  </tbody>\n",
       "</table>\n",
       "</div>"
      ],
      "text/plain": [
       "g_a                    -9.8 meter / second ** 2\n",
       "height                                  1 meter\n",
       "y_init                               0.01 meter\n",
       "m_frog                          0.0128 kilogram\n",
       "r_lilypad                             0.1 meter\n",
       "ρ                   997.0 kilogram / meter ** 3\n",
       "t_end                                300 second\n",
       "force                                  5 newton\n",
       "leg_length                           0.07 meter\n",
       "velocity      7.3017463664523445 meter / second\n",
       "angle                                 45 degree\n",
       "p_x                                  0.01 meter\n",
       "p_y                                  0.01 meter\n",
       "dtype: object"
      ]
     },
     "execution_count": 15,
     "metadata": {},
     "output_type": "execute_result"
    }
   ],
   "source": [
    "params1 = Params(params, velocity = system.v_pos, \n",
    "                 angle = 45 * degree, \n",
    "                 p_x = 0.01 * m,\n",
    "                 p_y = 0.01 * m)"
   ]
  },
  {
   "cell_type": "code",
   "execution_count": 16,
   "metadata": {},
   "outputs": [],
   "source": [
    "# set up system values\n",
    "\n",
    "# the frog is treated as point mass\n",
    "\n",
    "\n",
    "\n",
    "def make_system1(params):\n",
    "\n",
    "    unpack(params)\n",
    "    \n",
    "    # convert angle to degrees\n",
    "    theta = np.deg2rad(angle)\n",
    "    \n",
    "    # compute x and y components of velocity\n",
    "    vx, vy = pol2cart(theta, velocity)\n",
    "    \n",
    "    # make the initial state\n",
    "    init = State(x_frog = p_x,\n",
    "                 y_frog = p_y,\n",
    "                 vx = vx,\n",
    "                 vy = vy)\n",
    "    \n",
    "    # compute area from radius\n",
    "    area = np.pi * r_lilypad **2\n",
    "    \n",
    "    return System(params, init=init, area=area)"
   ]
  },
  {
   "cell_type": "code",
   "execution_count": 17,
   "metadata": {
    "scrolled": true
   },
   "outputs": [
    {
     "data": {
      "text/html": [
       "<div>\n",
       "<style scoped>\n",
       "    .dataframe tbody tr th:only-of-type {\n",
       "        vertical-align: middle;\n",
       "    }\n",
       "\n",
       "    .dataframe tbody tr th {\n",
       "        vertical-align: top;\n",
       "    }\n",
       "\n",
       "    .dataframe thead th {\n",
       "        text-align: right;\n",
       "    }\n",
       "</style>\n",
       "<table border=\"1\" class=\"dataframe\">\n",
       "  <thead>\n",
       "    <tr style=\"text-align: right;\">\n",
       "      <th></th>\n",
       "      <th>values</th>\n",
       "    </tr>\n",
       "  </thead>\n",
       "  <tbody>\n",
       "    <tr>\n",
       "      <th>g_a</th>\n",
       "      <td>-9.8 meter / second ** 2</td>\n",
       "    </tr>\n",
       "    <tr>\n",
       "      <th>height</th>\n",
       "      <td>1 meter</td>\n",
       "    </tr>\n",
       "    <tr>\n",
       "      <th>y_init</th>\n",
       "      <td>0.01 meter</td>\n",
       "    </tr>\n",
       "    <tr>\n",
       "      <th>m_frog</th>\n",
       "      <td>0.0128 kilogram</td>\n",
       "    </tr>\n",
       "    <tr>\n",
       "      <th>r_lilypad</th>\n",
       "      <td>0.1 meter</td>\n",
       "    </tr>\n",
       "    <tr>\n",
       "      <th>ρ</th>\n",
       "      <td>997.0 kilogram / meter ** 3</td>\n",
       "    </tr>\n",
       "    <tr>\n",
       "      <th>t_end</th>\n",
       "      <td>300 second</td>\n",
       "    </tr>\n",
       "    <tr>\n",
       "      <th>force</th>\n",
       "      <td>5 newton</td>\n",
       "    </tr>\n",
       "    <tr>\n",
       "      <th>leg_length</th>\n",
       "      <td>0.07 meter</td>\n",
       "    </tr>\n",
       "    <tr>\n",
       "      <th>velocity</th>\n",
       "      <td>7.3017463664523445 meter / second</td>\n",
       "    </tr>\n",
       "    <tr>\n",
       "      <th>angle</th>\n",
       "      <td>45 degree</td>\n",
       "    </tr>\n",
       "    <tr>\n",
       "      <th>p_x</th>\n",
       "      <td>0.01 meter</td>\n",
       "    </tr>\n",
       "    <tr>\n",
       "      <th>p_y</th>\n",
       "      <td>0.01 meter</td>\n",
       "    </tr>\n",
       "    <tr>\n",
       "      <th>init</th>\n",
       "      <td>x_frog                           0.01 meter\n",
       "y_...</td>\n",
       "    </tr>\n",
       "    <tr>\n",
       "      <th>area</th>\n",
       "      <td>0.031415926535897934 meter ** 2</td>\n",
       "    </tr>\n",
       "  </tbody>\n",
       "</table>\n",
       "</div>"
      ],
      "text/plain": [
       "g_a                                    -9.8 meter / second ** 2\n",
       "height                                                  1 meter\n",
       "y_init                                               0.01 meter\n",
       "m_frog                                          0.0128 kilogram\n",
       "r_lilypad                                             0.1 meter\n",
       "ρ                                   997.0 kilogram / meter ** 3\n",
       "t_end                                                300 second\n",
       "force                                                  5 newton\n",
       "leg_length                                           0.07 meter\n",
       "velocity                      7.3017463664523445 meter / second\n",
       "angle                                                 45 degree\n",
       "p_x                                                  0.01 meter\n",
       "p_y                                                  0.01 meter\n",
       "init          x_frog                           0.01 meter\n",
       "y_...\n",
       "area                            0.031415926535897934 meter ** 2\n",
       "dtype: object"
      ]
     },
     "execution_count": 17,
     "metadata": {},
     "output_type": "execute_result"
    }
   ],
   "source": [
    "system2 = make_system1(params1)\n"
   ]
  },
  {
   "cell_type": "code",
   "execution_count": 18,
   "metadata": {},
   "outputs": [],
   "source": [
    "def slope_func(state, t, system):\n",
    "\n",
    "    p_x, p_y, vx, vy = state\n",
    "    unpack(system)\n",
    "\n",
    "    V = Vector(vx, vy)\n",
    "    \n",
    "    a_grav = Vector(0, g_a)\n",
    "\n",
    "    return vx, vy, a_grav.x, a_grav.y"
   ]
  },
  {
   "cell_type": "code",
   "execution_count": 19,
   "metadata": {},
   "outputs": [
    {
     "data": {
      "text/plain": [
       "(<Quantity(5.1631143702226865, 'meter / second')>,\n",
       " <Quantity(5.1631143702226865, 'meter / second')>,\n",
       " <Quantity(0.0, 'meter / second ** 2')>,\n",
       " <Quantity(-9.8, 'meter / second ** 2')>)"
      ]
     },
     "execution_count": 19,
     "metadata": {},
     "output_type": "execute_result"
    }
   ],
   "source": [
    "# we test it with the initial condition\n",
    "slope_func(system2.init, 0, system2)"
   ]
  },
  {
   "cell_type": "code",
   "execution_count": 20,
   "metadata": {},
   "outputs": [],
   "source": [
    "def event_func(state, t, system):\n",
    "\n",
    "    x_frog, y_frog, vx, vy = state\n",
    "    return y_frog"
   ]
  },
  {
   "cell_type": "code",
   "execution_count": 21,
   "metadata": {},
   "outputs": [],
   "source": [
    "results1, details = run_ode_solver(system2, slope_func, events=event_func, max_step=0.01*s)\n"
   ]
  },
  {
   "cell_type": "code",
   "execution_count": 22,
   "metadata": {},
   "outputs": [
    {
     "data": {
      "text/html": [
       "<div>\n",
       "<style scoped>\n",
       "    .dataframe tbody tr th:only-of-type {\n",
       "        vertical-align: middle;\n",
       "    }\n",
       "\n",
       "    .dataframe tbody tr th {\n",
       "        vertical-align: top;\n",
       "    }\n",
       "\n",
       "    .dataframe thead th {\n",
       "        text-align: right;\n",
       "    }\n",
       "</style>\n",
       "<table border=\"1\" class=\"dataframe\">\n",
       "  <thead>\n",
       "    <tr style=\"text-align: right;\">\n",
       "      <th></th>\n",
       "      <th>values</th>\n",
       "    </tr>\n",
       "  </thead>\n",
       "  <tbody>\n",
       "    <tr>\n",
       "      <th>sol</th>\n",
       "      <td>None</td>\n",
       "    </tr>\n",
       "    <tr>\n",
       "      <th>t_events</th>\n",
       "      <td>[[1.055630078700011]]</td>\n",
       "    </tr>\n",
       "    <tr>\n",
       "      <th>nfev</th>\n",
       "      <td>644</td>\n",
       "    </tr>\n",
       "    <tr>\n",
       "      <th>njev</th>\n",
       "      <td>0</td>\n",
       "    </tr>\n",
       "    <tr>\n",
       "      <th>nlu</th>\n",
       "      <td>0</td>\n",
       "    </tr>\n",
       "    <tr>\n",
       "      <th>status</th>\n",
       "      <td>1</td>\n",
       "    </tr>\n",
       "    <tr>\n",
       "      <th>message</th>\n",
       "      <td>A termination event occurred.</td>\n",
       "    </tr>\n",
       "    <tr>\n",
       "      <th>success</th>\n",
       "      <td>True</td>\n",
       "    </tr>\n",
       "  </tbody>\n",
       "</table>\n",
       "</div>"
      ],
      "text/plain": [
       "sol                                  None\n",
       "t_events            [[1.055630078700011]]\n",
       "nfev                                  644\n",
       "njev                                    0\n",
       "nlu                                     0\n",
       "status                                  1\n",
       "message     A termination event occurred.\n",
       "success                              True\n",
       "dtype: object"
      ]
     },
     "execution_count": 22,
     "metadata": {},
     "output_type": "execute_result"
    }
   ],
   "source": [
    "details"
   ]
  },
  {
   "cell_type": "code",
   "execution_count": 23,
   "metadata": {},
   "outputs": [
    {
     "data": {
      "image/png": "[encoded data removed]",
      "text/plain": [
       "<Figure size 432x288 with 1 Axes>"
      ]
     },
     "metadata": {},
     "output_type": "display_data"
    }
   ],
   "source": [
    "def plot_position(results):\n",
    "    plot(results1.x_frog, results1.y_frog)\n",
    "    decorate(title='Path of 2D Frog Jump',\n",
    "             xlabel='X Position (m)',\n",
    "             ylabel='Y Position (m)')\n",
    "    \n",
    "plot_position(results1)"
   ]
  },
  {
   "cell_type": "code",
   "execution_count": 24,
   "metadata": {},
   "outputs": [],
   "source": [
    "def range_func(angle, params):  \n",
    "\n",
    "    params1 = Params(params, angle=angle)\n",
    "    system1 = make_system1(params1)\n",
    "    results1, details = run_ode_solver(system1, slope_func, events=event_func, max_step=0.01*s)\n",
    "    height = max(results1.y_frog) * m\n",
    "    return height"
   ]
  },
  {
   "cell_type": "code",
   "execution_count": 25,
   "metadata": {},
   "outputs": [
    {
     "name": "stdout",
     "output_type": "stream",
     "text": [
      "20.0 0.32818177093077944 meter\n",
      "23.0 0.4252767969718946 meter\n",
      "26.0 0.5326661334451697 meter\n",
      "29.0 0.649338288851766 meter\n",
      "32.0 0.7738467291000444 meter\n",
      "35.0 0.9048130441804686 meter\n",
      "38.0 1.0409689360152363 meter\n",
      "41.0 1.180720472734259 meter\n",
      "44.0 1.3225148697864682 meter\n",
      "47.0 1.4649440214529188 meter\n",
      "50.0 1.6062443407328832 meter\n",
      "53.0 1.7449577259245257 meter\n",
      "56.0 1.8794739942120837 meter\n",
      "59.0 2.008525100755537 meter\n",
      "62.0 2.1305198315287686 meter\n",
      "65.0 2.244309850840154 meter\n",
      "68.0 2.3484349222104965 meter\n",
      "71.0 2.4418416537764656 meter\n",
      "74.0 2.5234559357794666 meter\n",
      "77.0 2.592482312098582 meter\n",
      "80.0 2.6481513717800533 meter\n"
     ]
    }
   ],
   "source": [
    "angles = linspace(20, 80, 21)\n",
    "sweep1 = SweepSeries()\n",
    "\n",
    "for angle in angles:\n",
    "    height = range_func(angle, params)\n",
    "    print(angle, height)\n",
    "    sweep1[angle] = height"
   ]
  },
  {
   "cell_type": "code",
   "execution_count": 26,
   "metadata": {},
   "outputs": [
    {
     "data": {
      "image/png": "[encoded data removed]",
      "text/plain": [
       "<Figure size 432x288 with 1 Axes>"
      ]
     },
     "metadata": {},
     "output_type": "display_data"
    }
   ],
   "source": [
    "plot(sweep1, color='C2')\n",
    "decorate(xlabel='Launch angle (degree)',\n",
    "         ylabel='Height (m)',\n",
    "         title='The Maximum Height Reached When Launch Angle Changes',\n",
    "         legend=False)"
   ]
  },
  {
   "cell_type": "markdown",
   "metadata": {},
   "source": [
    "# Interpretation"
   ]
  },
  {
   "cell_type": "markdown",
   "metadata": {},
   "source": [
    "By comparing this graph to the one we generated in Force vs Max Height, we can find the relationship between the angle of frog jump and the force that is exerted on the lilypad, given a certian magnitude of velocity. \n",
    "\n",
    "It is determined in the first section that the maximum height reached by the frog without sinking the lilypad is 1.680 m. According to the graph above, the launch angle of this frog must be smaller than 55 degrees in order not to make the lilypad sink, given a fixed initial velocity. \n",
    "\n",
    "As the frog is jumping with an angle, the verticle part of the total force exerted on the lilpad causes a downward pressure. The height of a frog jump is also determined by the verticle force exerted on lilypad when jumping. Thus, there is a correlation between the angle of jumping and the maximum height reached by the frog without sinking the lilypad. "
   ]
  }
 ],
 "metadata": {
  "kernelspec": {
   "display_name": "Python 3",
   "language": "python",
   "name": "python3"
  },
  "language_info": {
   "codemirror_mode": {
    "name": "ipython",
    "version": 3
   },
   "file_extension": ".py",
   "mimetype": "text/x-python",
   "name": "python",
   "nbconvert_exporter": "python",
   "pygments_lexer": "ipython3",
   "version": "3.6.6"
  }
 },
 "nbformat": 4,
 "nbformat_minor": 2
}
