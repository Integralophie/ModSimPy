{
 "cells": [
  {
   "cell_type": "code",
   "execution_count": 1,
   "metadata": {},
   "outputs": [],
   "source": [
    "# Configure Jupyter so figures appear in the notebook\n",
    "%matplotlib inline\n",
    "\n",
    "# Configure Jupyter to display the assigned value after an assignment\n",
    "%config InteractiveShell.ast_node_interactivity='last_expr_or_assign'\n",
    "\n",
    "# import functions from the modsim.py module\n",
    "from modsim import *"
   ]
  },
  {
   "cell_type": "code",
   "execution_count": 3,
   "metadata": {},
   "outputs": [],
   "source": [
    "def make_system(Γ, τ, μ, β, ρ, α, δ, π, σ): \n",
    "    init = State(R = 1000, V = 100, L = 0, E = 0)\n",
    "\n",
    "    \n",
    "    t0 = 0\n",
    "    t_end = 120\n",
    "    \n",
    "    return System(init=init, t0=t0, t_end=t_end, Γ=Γ, τ=τ, μ=μ, β=β, α=α, δ=δ, π=π, σ=σ)\n"
   ]
  },
  {
   "cell_type": "code",
   "execution_count": 5,
   "metadata": {},
   "outputs": [],
   "source": [
    "def update_func(state, t, system):\n",
    "    r, v, e, l = state\n",
    "    unpack(system)\n",
    "    uninfectedrise = Γ * τ\n",
    "    deathR = μ * R\n",
    "    infection = β * R * V\n",
    "    \n",
    "    latentinfection = ρ * β * R * V\n",
    "    deathL = μ * L\n",
    "    activation = α * L\n",
    "    \n",
    "    activeinfection = (1 - ρ) * β * R * V\n",
    "    deathE = δ * E\n",
    "    \n",
    "    virionproduction = π * E\n",
    "    deathV = σ * V\n",
    "    \n",
    "    r += uninfectedrise - deathR - infection\n",
    "    l += latentinfection - deathL - activation\n",
    "    e += activeinfection - deathE + activation\n",
    "    v += virionproduction - deathV\n",
    "    \n",
    "    return State(R=r, L=l, E=e, V=v)"
   ]
  },
  {
   "cell_type": "code",
   "execution_count": null,
   "metadata": {},
   "outputs": [],
   "source": []
  }
 ],
 "metadata": {
  "kernelspec": {
   "display_name": "Python 3",
   "language": "python",
   "name": "python3"
  },
  "language_info": {
   "codemirror_mode": {
    "name": "ipython",
    "version": 3
   },
   "file_extension": ".py",
   "mimetype": "text/x-python",
   "name": "python",
   "nbconvert_exporter": "python",
   "pygments_lexer": "ipython3",
   "version": "3.6.6"
  }
 },
 "nbformat": 4,
 "nbformat_minor": 2
}
